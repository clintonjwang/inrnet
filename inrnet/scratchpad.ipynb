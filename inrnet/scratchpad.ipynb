{
 "cells": [
  {
   "cell_type": "code",
   "execution_count": 1,
   "id": "cfae1a8b",
   "metadata": {},
   "outputs": [],
   "source": [
    "import os, shutil, itertools, yaml, kornia, torchvision, sys, copy, math\n",
    "from functools import partial\n",
    "import dill as pickle\n",
    "from importlib import reload\n",
    "osp = os.path\n",
    "import numpy as np\n",
    "import matplotlib.pyplot as plt\n",
    "from torchvision import transforms\n",
    "import pandas as pd\n",
    "from PIL import Image\n",
    "import torch\n",
    "nn = torch.nn\n",
    "F = nn.functional\n",
    "import monai.transforms as mtr\n",
    "from time import time"
   ]
  },
  {
   "cell_type": "code",
   "execution_count": 2,
   "id": "e8944308",
   "metadata": {},
   "outputs": [],
   "source": [
    "from inrnet import args as args_module\n",
    "from inrnet import inn, experiments, optim, util, losses, models, jobs as job_mgmt\n",
    "from inrnet.data import dataloader\n",
    "from inrnet.experiments import depth\n",
    "from inrnet.inn import qmc\n",
    "import inrnet.inn.functional as inrF\n",
    "from inrnet.models.inrs import siren, rff\n",
    "%matplotlib inline\n",
    "plt.rcParams[\"figure.figsize\"] = (4.0, 3.0)\n",
    "plt.rcParams['figure.dpi'] = 200\n",
    "\n",
    "rescale_clip = mtr.ScaleIntensityRangePercentiles(lower=1, upper=99, b_min=0, b_max=255, clip=True, dtype=np.uint8)\n",
    "rescale_noclip = mtr.ScaleIntensityRangePercentiles(lower=0, upper=100, b_min=0, b_max=255, clip=False, dtype=np.uint8)\n",
    "rescale_float = mtr.ScaleIntensity()\n",
    "DS_DIR = \"/data/vision/polina/scratch/clintonw/datasets\"\n",
    "RESULTS_DIR = osp.expanduser(\"~/code/diffcoord/results\")\n",
    "TMP_DIR=osp.expanduser(\"~/code/diffcoord/temp\")"
   ]
  },
  {
   "cell_type": "code",
   "execution_count": 8,
   "id": "de63e9e7",
   "metadata": {},
   "outputs": [
    {
     "name": "stderr",
     "output_type": "stream",
     "text": [
      "400 response executing GraphQL.\n",
      "{\"errors\":[{\"message\":\"Invalid sweep config: invalid hyperparameter configuration: optimizer\",\"path\":[\"upsertSweep\"]}],\"data\":{\"upsertSweep\":null}}\n",
      "\u001b[34m\u001b[1mwandb\u001b[0m: \u001b[32m\u001b[41mERROR\u001b[0m Error while calling W&B API: Invalid sweep config: invalid hyperparameter configuration: optimizer (<Response [400]>)\n"
     ]
    },
    {
     "ename": "CommError",
     "evalue": "Invalid sweep config: invalid hyperparameter configuration: optimizer",
     "output_type": "error",
     "traceback": [
      "\u001b[0;31m---------------------------------------------------------------------------\u001b[0m",
      "\u001b[0;31mHTTPError\u001b[0m                                 Traceback (most recent call last)",
      "File \u001b[0;32m~/anaconda3/envs/cuda11/lib/python3.10/site-packages/wandb/sdk/lib/retry.py:102\u001b[0m, in \u001b[0;36mRetry.__call__\u001b[0;34m(self, *args, **kwargs)\u001b[0m\n\u001b[1;32m    101\u001b[0m \u001b[38;5;28;01mtry\u001b[39;00m:\n\u001b[0;32m--> 102\u001b[0m     result \u001b[38;5;241m=\u001b[39m \u001b[38;5;28;43mself\u001b[39;49m\u001b[38;5;241;43m.\u001b[39;49m\u001b[43m_call_fn\u001b[49m\u001b[43m(\u001b[49m\u001b[38;5;241;43m*\u001b[39;49m\u001b[43margs\u001b[49m\u001b[43m,\u001b[49m\u001b[43m \u001b[49m\u001b[38;5;241;43m*\u001b[39;49m\u001b[38;5;241;43m*\u001b[39;49m\u001b[43mkwargs\u001b[49m\u001b[43m)\u001b[49m\n\u001b[1;32m    103\u001b[0m     \u001b[38;5;66;03m# Only print resolved attempts once every minute\u001b[39;00m\n",
      "File \u001b[0;32m~/anaconda3/envs/cuda11/lib/python3.10/site-packages/wandb/sdk/internal/internal_api.py:140\u001b[0m, in \u001b[0;36mApi.execute\u001b[0;34m(self, *args, **kwargs)\u001b[0m\n\u001b[1;32m    139\u001b[0m \u001b[38;5;28;01mtry\u001b[39;00m:\n\u001b[0;32m--> 140\u001b[0m     \u001b[38;5;28;01mreturn\u001b[39;00m \u001b[38;5;28;43mself\u001b[39;49m\u001b[38;5;241;43m.\u001b[39;49m\u001b[43mclient\u001b[49m\u001b[38;5;241;43m.\u001b[39;49m\u001b[43mexecute\u001b[49m\u001b[43m(\u001b[49m\u001b[38;5;241;43m*\u001b[39;49m\u001b[43margs\u001b[49m\u001b[43m,\u001b[49m\u001b[43m \u001b[49m\u001b[38;5;241;43m*\u001b[39;49m\u001b[38;5;241;43m*\u001b[39;49m\u001b[43mkwargs\u001b[49m\u001b[43m)\u001b[49m\n\u001b[1;32m    141\u001b[0m \u001b[38;5;28;01mexcept\u001b[39;00m requests\u001b[38;5;241m.\u001b[39mexceptions\u001b[38;5;241m.\u001b[39mHTTPError \u001b[38;5;28;01mas\u001b[39;00m err:\n",
      "File \u001b[0;32m~/anaconda3/envs/cuda11/lib/python3.10/site-packages/wandb/vendor/gql-0.2.0/wandb_gql/client.py:52\u001b[0m, in \u001b[0;36mClient.execute\u001b[0;34m(self, document, *args, **kwargs)\u001b[0m\n\u001b[1;32m     50\u001b[0m     \u001b[38;5;28mself\u001b[39m\u001b[38;5;241m.\u001b[39mvalidate(document)\n\u001b[0;32m---> 52\u001b[0m result \u001b[38;5;241m=\u001b[39m \u001b[38;5;28;43mself\u001b[39;49m\u001b[38;5;241;43m.\u001b[39;49m\u001b[43m_get_result\u001b[49m\u001b[43m(\u001b[49m\u001b[43mdocument\u001b[49m\u001b[43m,\u001b[49m\u001b[43m \u001b[49m\u001b[38;5;241;43m*\u001b[39;49m\u001b[43margs\u001b[49m\u001b[43m,\u001b[49m\u001b[43m \u001b[49m\u001b[38;5;241;43m*\u001b[39;49m\u001b[38;5;241;43m*\u001b[39;49m\u001b[43mkwargs\u001b[49m\u001b[43m)\u001b[49m\n\u001b[1;32m     53\u001b[0m \u001b[38;5;28;01mif\u001b[39;00m result\u001b[38;5;241m.\u001b[39merrors:\n",
      "File \u001b[0;32m~/anaconda3/envs/cuda11/lib/python3.10/site-packages/wandb/vendor/gql-0.2.0/wandb_gql/client.py:60\u001b[0m, in \u001b[0;36mClient._get_result\u001b[0;34m(self, document, *args, **kwargs)\u001b[0m\n\u001b[1;32m     59\u001b[0m \u001b[38;5;28;01mif\u001b[39;00m \u001b[38;5;129;01mnot\u001b[39;00m \u001b[38;5;28mself\u001b[39m\u001b[38;5;241m.\u001b[39mretries:\n\u001b[0;32m---> 60\u001b[0m     \u001b[38;5;28;01mreturn\u001b[39;00m \u001b[38;5;28;43mself\u001b[39;49m\u001b[38;5;241;43m.\u001b[39;49m\u001b[43mtransport\u001b[49m\u001b[38;5;241;43m.\u001b[39;49m\u001b[43mexecute\u001b[49m\u001b[43m(\u001b[49m\u001b[43mdocument\u001b[49m\u001b[43m,\u001b[49m\u001b[43m \u001b[49m\u001b[38;5;241;43m*\u001b[39;49m\u001b[43margs\u001b[49m\u001b[43m,\u001b[49m\u001b[43m \u001b[49m\u001b[38;5;241;43m*\u001b[39;49m\u001b[38;5;241;43m*\u001b[39;49m\u001b[43mkwargs\u001b[49m\u001b[43m)\u001b[49m\n\u001b[1;32m     62\u001b[0m last_exception \u001b[38;5;241m=\u001b[39m \u001b[38;5;28;01mNone\u001b[39;00m\n",
      "File \u001b[0;32m~/anaconda3/envs/cuda11/lib/python3.10/site-packages/wandb/vendor/gql-0.2.0/wandb_gql/transport/requests.py:39\u001b[0m, in \u001b[0;36mRequestsHTTPTransport.execute\u001b[0;34m(self, document, variable_values, timeout)\u001b[0m\n\u001b[1;32m     38\u001b[0m request \u001b[38;5;241m=\u001b[39m requests\u001b[38;5;241m.\u001b[39mpost(\u001b[38;5;28mself\u001b[39m\u001b[38;5;241m.\u001b[39murl, \u001b[38;5;241m*\u001b[39m\u001b[38;5;241m*\u001b[39mpost_args)\n\u001b[0;32m---> 39\u001b[0m \u001b[43mrequest\u001b[49m\u001b[38;5;241;43m.\u001b[39;49m\u001b[43mraise_for_status\u001b[49m\u001b[43m(\u001b[49m\u001b[43m)\u001b[49m\n\u001b[1;32m     41\u001b[0m result \u001b[38;5;241m=\u001b[39m request\u001b[38;5;241m.\u001b[39mjson()\n",
      "File \u001b[0;32m~/anaconda3/envs/cuda11/lib/python3.10/site-packages/requests/models.py:960\u001b[0m, in \u001b[0;36mResponse.raise_for_status\u001b[0;34m(self)\u001b[0m\n\u001b[1;32m    959\u001b[0m \u001b[38;5;28;01mif\u001b[39;00m http_error_msg:\n\u001b[0;32m--> 960\u001b[0m     \u001b[38;5;28;01mraise\u001b[39;00m HTTPError(http_error_msg, response\u001b[38;5;241m=\u001b[39m\u001b[38;5;28mself\u001b[39m)\n",
      "\u001b[0;31mHTTPError\u001b[0m: 400 Client Error: Bad Request for url: https://api.wandb.ai/graphql",
      "\nDuring handling of the above exception, another exception occurred:\n",
      "\u001b[0;31mUsageError\u001b[0m                                Traceback (most recent call last)",
      "File \u001b[0;32m~/anaconda3/envs/cuda11/lib/python3.10/site-packages/wandb/apis/normalize.py:22\u001b[0m, in \u001b[0;36mnormalize_exceptions.<locals>.wrapper\u001b[0;34m(*args, **kwargs)\u001b[0m\n\u001b[1;32m     21\u001b[0m \u001b[38;5;28;01mtry\u001b[39;00m:\n\u001b[0;32m---> 22\u001b[0m     \u001b[38;5;28;01mreturn\u001b[39;00m \u001b[43mfunc\u001b[49m\u001b[43m(\u001b[49m\u001b[38;5;241;43m*\u001b[39;49m\u001b[43margs\u001b[49m\u001b[43m,\u001b[49m\u001b[43m \u001b[49m\u001b[38;5;241;43m*\u001b[39;49m\u001b[38;5;241;43m*\u001b[39;49m\u001b[43mkwargs\u001b[49m\u001b[43m)\u001b[49m\n\u001b[1;32m     23\u001b[0m \u001b[38;5;28;01mexcept\u001b[39;00m requests\u001b[38;5;241m.\u001b[39mHTTPError \u001b[38;5;28;01mas\u001b[39;00m err:\n",
      "File \u001b[0;32m~/anaconda3/envs/cuda11/lib/python3.10/site-packages/wandb/sdk/internal/internal_api.py:1915\u001b[0m, in \u001b[0;36mApi.upsert_sweep\u001b[0;34m(self, config, controller, scheduler, obj_id, project, entity, state)\u001b[0m\n\u001b[1;32m   1914\u001b[0m \u001b[38;5;28;01mexcept\u001b[39;00m UsageError \u001b[38;5;28;01mas\u001b[39;00m e:\n\u001b[0;32m-> 1915\u001b[0m     \u001b[38;5;28;01mraise\u001b[39;00m (e)\n\u001b[1;32m   1916\u001b[0m \u001b[38;5;28;01mexcept\u001b[39;00m \u001b[38;5;167;01mException\u001b[39;00m \u001b[38;5;28;01mas\u001b[39;00m e:\n\u001b[1;32m   1917\u001b[0m     \u001b[38;5;66;03m# graphql schema exception is generic\u001b[39;00m\n",
      "File \u001b[0;32m~/anaconda3/envs/cuda11/lib/python3.10/site-packages/wandb/sdk/internal/internal_api.py:1901\u001b[0m, in \u001b[0;36mApi.upsert_sweep\u001b[0;34m(self, config, controller, scheduler, obj_id, project, entity, state)\u001b[0m\n\u001b[1;32m   1900\u001b[0m \u001b[38;5;28;01mtry\u001b[39;00m:\n\u001b[0;32m-> 1901\u001b[0m     response \u001b[38;5;241m=\u001b[39m \u001b[38;5;28;43mself\u001b[39;49m\u001b[38;5;241;43m.\u001b[39;49m\u001b[43mgql\u001b[49m\u001b[43m(\u001b[49m\n\u001b[1;32m   1902\u001b[0m \u001b[43m        \u001b[49m\u001b[43mmutation\u001b[49m\u001b[43m,\u001b[49m\n\u001b[1;32m   1903\u001b[0m \u001b[43m        \u001b[49m\u001b[43mvariable_values\u001b[49m\u001b[38;5;241;43m=\u001b[39;49m\u001b[43m{\u001b[49m\n\u001b[1;32m   1904\u001b[0m \u001b[43m            \u001b[49m\u001b[38;5;124;43m\"\u001b[39;49m\u001b[38;5;124;43mid\u001b[39;49m\u001b[38;5;124;43m\"\u001b[39;49m\u001b[43m:\u001b[49m\u001b[43m \u001b[49m\u001b[43mobj_id\u001b[49m\u001b[43m,\u001b[49m\n\u001b[1;32m   1905\u001b[0m \u001b[43m            \u001b[49m\u001b[38;5;124;43m\"\u001b[39;49m\u001b[38;5;124;43mconfig\u001b[39;49m\u001b[38;5;124;43m\"\u001b[39;49m\u001b[43m:\u001b[49m\u001b[43m \u001b[49m\u001b[43myaml\u001b[49m\u001b[38;5;241;43m.\u001b[39;49m\u001b[43mdump\u001b[49m\u001b[43m(\u001b[49m\u001b[43mconfig\u001b[49m\u001b[43m)\u001b[49m\u001b[43m,\u001b[49m\n\u001b[1;32m   1906\u001b[0m \u001b[43m            \u001b[49m\u001b[38;5;124;43m\"\u001b[39;49m\u001b[38;5;124;43mdescription\u001b[39;49m\u001b[38;5;124;43m\"\u001b[39;49m\u001b[43m:\u001b[49m\u001b[43m \u001b[49m\u001b[43mconfig\u001b[49m\u001b[38;5;241;43m.\u001b[39;49m\u001b[43mget\u001b[49m\u001b[43m(\u001b[49m\u001b[38;5;124;43m\"\u001b[39;49m\u001b[38;5;124;43mdescription\u001b[39;49m\u001b[38;5;124;43m\"\u001b[39;49m\u001b[43m)\u001b[49m\u001b[43m,\u001b[49m\n\u001b[1;32m   1907\u001b[0m \u001b[43m            \u001b[49m\u001b[38;5;124;43m\"\u001b[39;49m\u001b[38;5;124;43mentityName\u001b[39;49m\u001b[38;5;124;43m\"\u001b[39;49m\u001b[43m:\u001b[49m\u001b[43m \u001b[49m\u001b[43mentity\u001b[49m\u001b[43m \u001b[49m\u001b[38;5;129;43;01mor\u001b[39;49;00m\u001b[43m \u001b[49m\u001b[38;5;28;43mself\u001b[39;49m\u001b[38;5;241;43m.\u001b[39;49m\u001b[43msettings\u001b[49m\u001b[43m(\u001b[49m\u001b[38;5;124;43m\"\u001b[39;49m\u001b[38;5;124;43mentity\u001b[39;49m\u001b[38;5;124;43m\"\u001b[39;49m\u001b[43m)\u001b[49m\u001b[43m,\u001b[49m\n\u001b[1;32m   1908\u001b[0m \u001b[43m            \u001b[49m\u001b[38;5;124;43m\"\u001b[39;49m\u001b[38;5;124;43mprojectName\u001b[39;49m\u001b[38;5;124;43m\"\u001b[39;49m\u001b[43m:\u001b[49m\u001b[43m \u001b[49m\u001b[43mproject\u001b[49m\u001b[43m \u001b[49m\u001b[38;5;129;43;01mor\u001b[39;49;00m\u001b[43m \u001b[49m\u001b[38;5;28;43mself\u001b[39;49m\u001b[38;5;241;43m.\u001b[39;49m\u001b[43msettings\u001b[49m\u001b[43m(\u001b[49m\u001b[38;5;124;43m\"\u001b[39;49m\u001b[38;5;124;43mproject\u001b[39;49m\u001b[38;5;124;43m\"\u001b[39;49m\u001b[43m)\u001b[49m\u001b[43m,\u001b[49m\n\u001b[1;32m   1909\u001b[0m \u001b[43m            \u001b[49m\u001b[38;5;124;43m\"\u001b[39;49m\u001b[38;5;124;43mcontroller\u001b[39;49m\u001b[38;5;124;43m\"\u001b[39;49m\u001b[43m:\u001b[49m\u001b[43m \u001b[49m\u001b[43mcontroller\u001b[49m\u001b[43m,\u001b[49m\n\u001b[1;32m   1910\u001b[0m \u001b[43m            \u001b[49m\u001b[38;5;124;43m\"\u001b[39;49m\u001b[38;5;124;43mscheduler\u001b[39;49m\u001b[38;5;124;43m\"\u001b[39;49m\u001b[43m:\u001b[49m\u001b[43m \u001b[49m\u001b[43mscheduler\u001b[49m\u001b[43m,\u001b[49m\n\u001b[1;32m   1911\u001b[0m \u001b[43m        \u001b[49m\u001b[43m}\u001b[49m\u001b[43m,\u001b[49m\n\u001b[1;32m   1912\u001b[0m \u001b[43m        \u001b[49m\u001b[43mcheck_retry_fn\u001b[49m\u001b[38;5;241;43m=\u001b[39;49m\u001b[43mno_retry_4xx\u001b[49m\u001b[43m,\u001b[49m\n\u001b[1;32m   1913\u001b[0m \u001b[43m    \u001b[49m\u001b[43m)\u001b[49m\n\u001b[1;32m   1914\u001b[0m \u001b[38;5;28;01mexcept\u001b[39;00m UsageError \u001b[38;5;28;01mas\u001b[39;00m e:\n",
      "File \u001b[0;32m~/anaconda3/envs/cuda11/lib/python3.10/site-packages/wandb/sdk/lib/retry.py:118\u001b[0m, in \u001b[0;36mRetry.__call__\u001b[0;34m(self, *args, **kwargs)\u001b[0m\n\u001b[1;32m    116\u001b[0m \u001b[38;5;28;01mexcept\u001b[39;00m \u001b[38;5;28mself\u001b[39m\u001b[38;5;241m.\u001b[39m_retryable_exceptions \u001b[38;5;28;01mas\u001b[39;00m e:\n\u001b[1;32m    117\u001b[0m     \u001b[38;5;66;03m# if the secondary check fails, re-raise\u001b[39;00m\n\u001b[0;32m--> 118\u001b[0m     \u001b[38;5;28;01mif\u001b[39;00m \u001b[38;5;129;01mnot\u001b[39;00m \u001b[43mcheck_retry_fn\u001b[49m\u001b[43m(\u001b[49m\u001b[43me\u001b[49m\u001b[43m)\u001b[49m:\n\u001b[1;32m    119\u001b[0m         \u001b[38;5;28;01mraise\u001b[39;00m\n",
      "File \u001b[0;32m~/anaconda3/envs/cuda11/lib/python3.10/site-packages/wandb/sdk/internal/internal_api.py:1892\u001b[0m, in \u001b[0;36mApi.upsert_sweep.<locals>.no_retry_4xx\u001b[0;34m(e)\u001b[0m\n\u001b[1;32m   1891\u001b[0m body \u001b[38;5;241m=\u001b[39m json\u001b[38;5;241m.\u001b[39mloads(e\u001b[38;5;241m.\u001b[39mresponse\u001b[38;5;241m.\u001b[39mcontent)\n\u001b[0;32m-> 1892\u001b[0m \u001b[38;5;28;01mraise\u001b[39;00m UsageError(body[\u001b[38;5;124m\"\u001b[39m\u001b[38;5;124merrors\u001b[39m\u001b[38;5;124m\"\u001b[39m][\u001b[38;5;241m0\u001b[39m][\u001b[38;5;124m\"\u001b[39m\u001b[38;5;124mmessage\u001b[39m\u001b[38;5;124m\"\u001b[39m])\n",
      "\u001b[0;31mUsageError\u001b[0m: Invalid sweep config: invalid hyperparameter configuration: optimizer",
      "\nDuring handling of the above exception, another exception occurred:\n",
      "\u001b[0;31mCommError\u001b[0m                                 Traceback (most recent call last)",
      "Input \u001b[0;32mIn [8]\u001b[0m, in \u001b[0;36m<cell line: 19>\u001b[0;34m()\u001b[0m\n\u001b[1;32m      1\u001b[0m \u001b[38;5;28;01mimport\u001b[39;00m \u001b[38;5;21;01mwandb\u001b[39;00m\n\u001b[1;32m      3\u001b[0m sweep_config \u001b[38;5;241m=\u001b[39m {\n\u001b[1;32m      4\u001b[0m     \u001b[38;5;124m\"\u001b[39m\u001b[38;5;124mname\u001b[39m\u001b[38;5;124m\"\u001b[39m: \u001b[38;5;124m\"\u001b[39m\u001b[38;5;124mlr sweep - imagenet\u001b[39m\u001b[38;5;124m\"\u001b[39m,\n\u001b[1;32m      5\u001b[0m     \u001b[38;5;124m\"\u001b[39m\u001b[38;5;124mmethod\u001b[39m\u001b[38;5;124m\"\u001b[39m: \u001b[38;5;124m\"\u001b[39m\u001b[38;5;124mgrid\u001b[39m\u001b[38;5;124m\"\u001b[39m,\n\u001b[0;32m   (...)\u001b[0m\n\u001b[1;32m     17\u001b[0m     }\n\u001b[1;32m     18\u001b[0m }\n\u001b[0;32m---> 19\u001b[0m sweep_id \u001b[38;5;241m=\u001b[39m \u001b[43mwandb\u001b[49m\u001b[38;5;241;43m.\u001b[39;49m\u001b[43msweep\u001b[49m\u001b[43m(\u001b[49m\u001b[43msweep_config\u001b[49m\u001b[43m,\u001b[49m\u001b[43m \u001b[49m\u001b[43mentity\u001b[49m\u001b[38;5;241;43m=\u001b[39;49m\u001b[38;5;124;43m'\u001b[39;49m\u001b[38;5;124;43mclintonjwang\u001b[39;49m\u001b[38;5;124;43m'\u001b[39;49m\u001b[43m,\u001b[49m\u001b[43m \u001b[49m\u001b[43mproject\u001b[49m\u001b[38;5;241;43m=\u001b[39;49m\u001b[38;5;124;43m'\u001b[39;49m\u001b[38;5;124;43minrnet\u001b[39;49m\u001b[38;5;124;43m'\u001b[39;49m\u001b[43m)\u001b[49m\n",
      "File \u001b[0;32m~/anaconda3/envs/cuda11/lib/python3.10/site-packages/wandb/sdk/wandb_sweep.py:107\u001b[0m, in \u001b[0;36msweep\u001b[0;34m(sweep, entity, project)\u001b[0m\n\u001b[1;32m    105\u001b[0m     wandb_login\u001b[38;5;241m.\u001b[39m_login(_silent\u001b[38;5;241m=\u001b[39m\u001b[38;5;28;01mTrue\u001b[39;00m)\n\u001b[1;32m    106\u001b[0m api \u001b[38;5;241m=\u001b[39m InternalApi()\n\u001b[0;32m--> 107\u001b[0m sweep_id, warnings \u001b[38;5;241m=\u001b[39m \u001b[43mapi\u001b[49m\u001b[38;5;241;43m.\u001b[39;49m\u001b[43mupsert_sweep\u001b[49m\u001b[43m(\u001b[49m\u001b[43msweep\u001b[49m\u001b[43m)\u001b[49m\n\u001b[1;32m    108\u001b[0m handle_sweep_config_violations(warnings)\n\u001b[1;32m    109\u001b[0m \u001b[38;5;28mprint\u001b[39m(\u001b[38;5;124m\"\u001b[39m\u001b[38;5;124mCreate sweep with ID:\u001b[39m\u001b[38;5;124m\"\u001b[39m, sweep_id)\n",
      "File \u001b[0;32m~/anaconda3/envs/cuda11/lib/python3.10/site-packages/wandb/apis/internal.py:102\u001b[0m, in \u001b[0;36mApi.upsert_sweep\u001b[0;34m(self, *args, **kwargs)\u001b[0m\n\u001b[1;32m    101\u001b[0m \u001b[38;5;28;01mdef\u001b[39;00m \u001b[38;5;21mupsert_sweep\u001b[39m(\u001b[38;5;28mself\u001b[39m, \u001b[38;5;241m*\u001b[39margs, \u001b[38;5;241m*\u001b[39m\u001b[38;5;241m*\u001b[39mkwargs):\n\u001b[0;32m--> 102\u001b[0m     \u001b[38;5;28;01mreturn\u001b[39;00m \u001b[38;5;28;43mself\u001b[39;49m\u001b[38;5;241;43m.\u001b[39;49m\u001b[43mapi\u001b[49m\u001b[38;5;241;43m.\u001b[39;49m\u001b[43mupsert_sweep\u001b[49m\u001b[43m(\u001b[49m\u001b[38;5;241;43m*\u001b[39;49m\u001b[43margs\u001b[49m\u001b[43m,\u001b[49m\u001b[43m \u001b[49m\u001b[38;5;241;43m*\u001b[39;49m\u001b[38;5;241;43m*\u001b[39;49m\u001b[43mkwargs\u001b[49m\u001b[43m)\u001b[49m\n",
      "File \u001b[0;32m~/anaconda3/envs/cuda11/lib/python3.10/site-packages/wandb/apis/normalize.py:58\u001b[0m, in \u001b[0;36mnormalize_exceptions.<locals>.wrapper\u001b[0;34m(*args, **kwargs)\u001b[0m\n\u001b[1;32m     56\u001b[0m     \u001b[38;5;28;01mraise\u001b[39;00m\n\u001b[1;32m     57\u001b[0m \u001b[38;5;28;01melse\u001b[39;00m:\n\u001b[0;32m---> 58\u001b[0m     \u001b[38;5;28;01mraise\u001b[39;00m CommError(message, err)\u001b[38;5;241m.\u001b[39mwith_traceback(sys\u001b[38;5;241m.\u001b[39mexc_info()[\u001b[38;5;241m2\u001b[39m])\n",
      "File \u001b[0;32m~/anaconda3/envs/cuda11/lib/python3.10/site-packages/wandb/apis/normalize.py:22\u001b[0m, in \u001b[0;36mnormalize_exceptions.<locals>.wrapper\u001b[0;34m(*args, **kwargs)\u001b[0m\n\u001b[1;32m     20\u001b[0m message \u001b[38;5;241m=\u001b[39m \u001b[38;5;124m\"\u001b[39m\u001b[38;5;124mWhoa, you found a bug.\u001b[39m\u001b[38;5;124m\"\u001b[39m\n\u001b[1;32m     21\u001b[0m \u001b[38;5;28;01mtry\u001b[39;00m:\n\u001b[0;32m---> 22\u001b[0m     \u001b[38;5;28;01mreturn\u001b[39;00m \u001b[43mfunc\u001b[49m\u001b[43m(\u001b[49m\u001b[38;5;241;43m*\u001b[39;49m\u001b[43margs\u001b[49m\u001b[43m,\u001b[49m\u001b[43m \u001b[49m\u001b[38;5;241;43m*\u001b[39;49m\u001b[38;5;241;43m*\u001b[39;49m\u001b[43mkwargs\u001b[49m\u001b[43m)\u001b[49m\n\u001b[1;32m     23\u001b[0m \u001b[38;5;28;01mexcept\u001b[39;00m requests\u001b[38;5;241m.\u001b[39mHTTPError \u001b[38;5;28;01mas\u001b[39;00m err:\n\u001b[1;32m     24\u001b[0m     \u001b[38;5;28;01mraise\u001b[39;00m CommError(err\u001b[38;5;241m.\u001b[39mresponse, err)\n",
      "File \u001b[0;32m~/anaconda3/envs/cuda11/lib/python3.10/site-packages/wandb/sdk/internal/internal_api.py:1915\u001b[0m, in \u001b[0;36mApi.upsert_sweep\u001b[0;34m(self, config, controller, scheduler, obj_id, project, entity, state)\u001b[0m\n\u001b[1;32m   1901\u001b[0m     response \u001b[38;5;241m=\u001b[39m \u001b[38;5;28mself\u001b[39m\u001b[38;5;241m.\u001b[39mgql(\n\u001b[1;32m   1902\u001b[0m         mutation,\n\u001b[1;32m   1903\u001b[0m         variable_values\u001b[38;5;241m=\u001b[39m{\n\u001b[0;32m   (...)\u001b[0m\n\u001b[1;32m   1912\u001b[0m         check_retry_fn\u001b[38;5;241m=\u001b[39mno_retry_4xx,\n\u001b[1;32m   1913\u001b[0m     )\n\u001b[1;32m   1914\u001b[0m \u001b[38;5;28;01mexcept\u001b[39;00m UsageError \u001b[38;5;28;01mas\u001b[39;00m e:\n\u001b[0;32m-> 1915\u001b[0m     \u001b[38;5;28;01mraise\u001b[39;00m (e)\n\u001b[1;32m   1916\u001b[0m \u001b[38;5;28;01mexcept\u001b[39;00m \u001b[38;5;167;01mException\u001b[39;00m \u001b[38;5;28;01mas\u001b[39;00m e:\n\u001b[1;32m   1917\u001b[0m     \u001b[38;5;66;03m# graphql schema exception is generic\u001b[39;00m\n\u001b[1;32m   1918\u001b[0m     err \u001b[38;5;241m=\u001b[39m e\n",
      "File \u001b[0;32m~/anaconda3/envs/cuda11/lib/python3.10/site-packages/wandb/sdk/internal/internal_api.py:1901\u001b[0m, in \u001b[0;36mApi.upsert_sweep\u001b[0;34m(self, config, controller, scheduler, obj_id, project, entity, state)\u001b[0m\n\u001b[1;32m   1899\u001b[0m \u001b[38;5;28;01mfor\u001b[39;00m mutation \u001b[38;5;129;01min\u001b[39;00m mutations:\n\u001b[1;32m   1900\u001b[0m     \u001b[38;5;28;01mtry\u001b[39;00m:\n\u001b[0;32m-> 1901\u001b[0m         response \u001b[38;5;241m=\u001b[39m \u001b[38;5;28;43mself\u001b[39;49m\u001b[38;5;241;43m.\u001b[39;49m\u001b[43mgql\u001b[49m\u001b[43m(\u001b[49m\n\u001b[1;32m   1902\u001b[0m \u001b[43m            \u001b[49m\u001b[43mmutation\u001b[49m\u001b[43m,\u001b[49m\n\u001b[1;32m   1903\u001b[0m \u001b[43m            \u001b[49m\u001b[43mvariable_values\u001b[49m\u001b[38;5;241;43m=\u001b[39;49m\u001b[43m{\u001b[49m\n\u001b[1;32m   1904\u001b[0m \u001b[43m                \u001b[49m\u001b[38;5;124;43m\"\u001b[39;49m\u001b[38;5;124;43mid\u001b[39;49m\u001b[38;5;124;43m\"\u001b[39;49m\u001b[43m:\u001b[49m\u001b[43m \u001b[49m\u001b[43mobj_id\u001b[49m\u001b[43m,\u001b[49m\n\u001b[1;32m   1905\u001b[0m \u001b[43m                \u001b[49m\u001b[38;5;124;43m\"\u001b[39;49m\u001b[38;5;124;43mconfig\u001b[39;49m\u001b[38;5;124;43m\"\u001b[39;49m\u001b[43m:\u001b[49m\u001b[43m \u001b[49m\u001b[43myaml\u001b[49m\u001b[38;5;241;43m.\u001b[39;49m\u001b[43mdump\u001b[49m\u001b[43m(\u001b[49m\u001b[43mconfig\u001b[49m\u001b[43m)\u001b[49m\u001b[43m,\u001b[49m\n\u001b[1;32m   1906\u001b[0m \u001b[43m                \u001b[49m\u001b[38;5;124;43m\"\u001b[39;49m\u001b[38;5;124;43mdescription\u001b[39;49m\u001b[38;5;124;43m\"\u001b[39;49m\u001b[43m:\u001b[49m\u001b[43m \u001b[49m\u001b[43mconfig\u001b[49m\u001b[38;5;241;43m.\u001b[39;49m\u001b[43mget\u001b[49m\u001b[43m(\u001b[49m\u001b[38;5;124;43m\"\u001b[39;49m\u001b[38;5;124;43mdescription\u001b[39;49m\u001b[38;5;124;43m\"\u001b[39;49m\u001b[43m)\u001b[49m\u001b[43m,\u001b[49m\n\u001b[1;32m   1907\u001b[0m \u001b[43m                \u001b[49m\u001b[38;5;124;43m\"\u001b[39;49m\u001b[38;5;124;43mentityName\u001b[39;49m\u001b[38;5;124;43m\"\u001b[39;49m\u001b[43m:\u001b[49m\u001b[43m \u001b[49m\u001b[43mentity\u001b[49m\u001b[43m \u001b[49m\u001b[38;5;129;43;01mor\u001b[39;49;00m\u001b[43m \u001b[49m\u001b[38;5;28;43mself\u001b[39;49m\u001b[38;5;241;43m.\u001b[39;49m\u001b[43msettings\u001b[49m\u001b[43m(\u001b[49m\u001b[38;5;124;43m\"\u001b[39;49m\u001b[38;5;124;43mentity\u001b[39;49m\u001b[38;5;124;43m\"\u001b[39;49m\u001b[43m)\u001b[49m\u001b[43m,\u001b[49m\n\u001b[1;32m   1908\u001b[0m \u001b[43m                \u001b[49m\u001b[38;5;124;43m\"\u001b[39;49m\u001b[38;5;124;43mprojectName\u001b[39;49m\u001b[38;5;124;43m\"\u001b[39;49m\u001b[43m:\u001b[49m\u001b[43m \u001b[49m\u001b[43mproject\u001b[49m\u001b[43m \u001b[49m\u001b[38;5;129;43;01mor\u001b[39;49;00m\u001b[43m \u001b[49m\u001b[38;5;28;43mself\u001b[39;49m\u001b[38;5;241;43m.\u001b[39;49m\u001b[43msettings\u001b[49m\u001b[43m(\u001b[49m\u001b[38;5;124;43m\"\u001b[39;49m\u001b[38;5;124;43mproject\u001b[39;49m\u001b[38;5;124;43m\"\u001b[39;49m\u001b[43m)\u001b[49m\u001b[43m,\u001b[49m\n\u001b[1;32m   1909\u001b[0m \u001b[43m                \u001b[49m\u001b[38;5;124;43m\"\u001b[39;49m\u001b[38;5;124;43mcontroller\u001b[39;49m\u001b[38;5;124;43m\"\u001b[39;49m\u001b[43m:\u001b[49m\u001b[43m \u001b[49m\u001b[43mcontroller\u001b[49m\u001b[43m,\u001b[49m\n\u001b[1;32m   1910\u001b[0m \u001b[43m                \u001b[49m\u001b[38;5;124;43m\"\u001b[39;49m\u001b[38;5;124;43mscheduler\u001b[39;49m\u001b[38;5;124;43m\"\u001b[39;49m\u001b[43m:\u001b[49m\u001b[43m \u001b[49m\u001b[43mscheduler\u001b[49m\u001b[43m,\u001b[49m\n\u001b[1;32m   1911\u001b[0m \u001b[43m            \u001b[49m\u001b[43m}\u001b[49m\u001b[43m,\u001b[49m\n\u001b[1;32m   1912\u001b[0m \u001b[43m            \u001b[49m\u001b[43mcheck_retry_fn\u001b[49m\u001b[38;5;241;43m=\u001b[39;49m\u001b[43mno_retry_4xx\u001b[49m\u001b[43m,\u001b[49m\n\u001b[1;32m   1913\u001b[0m \u001b[43m        \u001b[49m\u001b[43m)\u001b[49m\n\u001b[1;32m   1914\u001b[0m     \u001b[38;5;28;01mexcept\u001b[39;00m UsageError \u001b[38;5;28;01mas\u001b[39;00m e:\n\u001b[1;32m   1915\u001b[0m         \u001b[38;5;28;01mraise\u001b[39;00m (e)\n",
      "File \u001b[0;32m~/anaconda3/envs/cuda11/lib/python3.10/site-packages/wandb/sdk/lib/retry.py:118\u001b[0m, in \u001b[0;36mRetry.__call__\u001b[0;34m(self, *args, **kwargs)\u001b[0m\n\u001b[1;32m    115\u001b[0m     \u001b[38;5;28;01mreturn\u001b[39;00m result\n\u001b[1;32m    116\u001b[0m \u001b[38;5;28;01mexcept\u001b[39;00m \u001b[38;5;28mself\u001b[39m\u001b[38;5;241m.\u001b[39m_retryable_exceptions \u001b[38;5;28;01mas\u001b[39;00m e:\n\u001b[1;32m    117\u001b[0m     \u001b[38;5;66;03m# if the secondary check fails, re-raise\u001b[39;00m\n\u001b[0;32m--> 118\u001b[0m     \u001b[38;5;28;01mif\u001b[39;00m \u001b[38;5;129;01mnot\u001b[39;00m \u001b[43mcheck_retry_fn\u001b[49m\u001b[43m(\u001b[49m\u001b[43me\u001b[49m\u001b[43m)\u001b[49m:\n\u001b[1;32m    119\u001b[0m         \u001b[38;5;28;01mraise\u001b[39;00m\n\u001b[1;32m    120\u001b[0m     \u001b[38;5;28;01mif\u001b[39;00m (\n\u001b[1;32m    121\u001b[0m         datetime\u001b[38;5;241m.\u001b[39mdatetime\u001b[38;5;241m.\u001b[39mnow() \u001b[38;5;241m-\u001b[39m start_time \u001b[38;5;241m>\u001b[39m\u001b[38;5;241m=\u001b[39m retry_timedelta\n\u001b[1;32m    122\u001b[0m         \u001b[38;5;129;01mor\u001b[39;00m \u001b[38;5;28mself\u001b[39m\u001b[38;5;241m.\u001b[39m_num_iter \u001b[38;5;241m>\u001b[39m\u001b[38;5;241m=\u001b[39m num_retries\n\u001b[1;32m    123\u001b[0m     ):\n",
      "File \u001b[0;32m~/anaconda3/envs/cuda11/lib/python3.10/site-packages/wandb/sdk/internal/internal_api.py:1892\u001b[0m, in \u001b[0;36mApi.upsert_sweep.<locals>.no_retry_4xx\u001b[0;34m(e)\u001b[0m\n\u001b[1;32m   1890\u001b[0m     \u001b[38;5;28;01mreturn\u001b[39;00m \u001b[38;5;28;01mTrue\u001b[39;00m\n\u001b[1;32m   1891\u001b[0m body \u001b[38;5;241m=\u001b[39m json\u001b[38;5;241m.\u001b[39mloads(e\u001b[38;5;241m.\u001b[39mresponse\u001b[38;5;241m.\u001b[39mcontent)\n\u001b[0;32m-> 1892\u001b[0m \u001b[38;5;28;01mraise\u001b[39;00m UsageError(body[\u001b[38;5;124m\"\u001b[39m\u001b[38;5;124merrors\u001b[39m\u001b[38;5;124m\"\u001b[39m][\u001b[38;5;241m0\u001b[39m][\u001b[38;5;124m\"\u001b[39m\u001b[38;5;124mmessage\u001b[39m\u001b[38;5;124m\"\u001b[39m])\n",
      "\u001b[0;31mCommError\u001b[0m: Invalid sweep config: invalid hyperparameter configuration: optimizer"
     ]
    }
   ],
   "source": [
    "import wandb\n",
    "\n",
    "sweep_config = {\n",
    "    \"name\": \"lr sweep - imagenet\",\n",
    "    \"method\": \"grid\",\n",
    "    \"parameters\": {\n",
    "#         \"data loading\": {\"parameters\":{\n",
    "#             \"sample type\": {\n",
    "#                 \"values\": [\"rqmc\", \"shrunk\"],\n",
    "#             }\n",
    "#         }},\n",
    "        \"optimizer\": {\"parameters\":{\n",
    "            \"learning_rate\": {\n",
    "                \"values\": [1e-5, 1e-4, 1e-3, 1e-2],\n",
    "            }\n",
    "        }}\n",
    "    }\n",
    "}\n",
    "sweep_id = wandb.sweep(sweep_config, entity='clintonjwang', project='inrnet')"
   ]
  },
  {
   "cell_type": "code",
   "execution_count": null,
   "id": "fee609b4",
   "metadata": {},
   "outputs": [],
   "source": []
  },
  {
   "cell_type": "markdown",
   "id": "289b2ca0",
   "metadata": {},
   "source": [
    "rsync -av --ignore-existing \\\n",
    "clintonw@peppercorn.csail.mit.edu:/data/vision/polina/users/clintonw/code/placenta/results/unetr_00 Downloads/"
   ]
  },
  {
   "cell_type": "markdown",
   "id": "ffbadd6f",
   "metadata": {},
   "source": [
    "# interactive"
   ]
  },
  {
   "cell_type": "markdown",
   "id": "4bd7f72a",
   "metadata": {},
   "source": [
    "### cmd line"
   ]
  },
  {
   "cell_type": "code",
   "execution_count": null,
   "id": "3bec89d4",
   "metadata": {},
   "outputs": [],
   "source": [
    "python train.py -c=seg_nn\n",
    "bash train.sh seg_nn seg_nn\n",
    "bash train.sh seg_cn seg_cn\n",
    "\n",
    "bash train.sh seg_nn3 seg_nn3\n",
    "bash train.sh seg_nn5 seg_nn5\n",
    "bash train.sh seg_nn3f seg_nn3\n",
    "bash train.sh seg_i3 seg_i3\n",
    "bash train.sh seg_i3c seg_i3c\n",
    "bash train.sh seg_i5 seg_i5\n",
    "bash train.sh seg_i5c seg_i5c\n",
    "\n",
    "bash train.sh seg_i3g seg_i3c\n",
    "bash train.sh seg_i3q seg_i3q\n",
    "bash train.sh seg_i3m seg_i3m\n",
    "\n",
    "bash infer.sh sval_nn seg_valsm seg_nn\n",
    "bash infer.sh sval_cn seg_valsm seg_cn\n",
    "\n",
    "bash infer.sh seg_m2m seg_valm seg_i3m\n",
    "bash infer.sh seg_q2m seg_valm seg_i3m\n",
    "bash infer.sh seg_m2q seg_valq seg_i3m\n",
    "bash infer.sh seg_q2q seg_valq seg_i3q\n",
    "bash infer.sh seg_q2g seg_val_c seg_i3q\n",
    "bash infer.sh seg_m2g seg_val_c seg_i3m\n",
    "bash infer.sh seg_g2m seg_valm seg_i3g\n",
    "bash infer.sh seg_g2q seg_valq seg_i3g\n",
    "bash infer.sh seg_g2g seg_val_c seg_i3g\n",
    "python infer.py -j=seg_g2q -c=seg_valq -t=seg_i3g\n",
    "\n",
    "bash infer.sh scf_i3 seg_val seg_i3c\n",
    "bash infer.sh scf_nn3 seg_val seg_nn3c\n",
    "bash infer.sh scf_i5 seg_val seg_i5c\n",
    "bash infer.sh scf_nn5 seg_val seg_nn5c\n",
    "bash infer.sh sff_i3 seg_val seg_i3\n",
    "bash infer.sh sff_nn3 seg_val seg_nn3\n",
    "bash infer.sh sff_i5 seg_val seg_i5\n",
    "bash infer.sh sff_nn5 seg_val seg_nn5\n",
    "bash infer.sh scc_i3c seg_val_c seg_i3c\n",
    "bash infer.sh scc_nn3c seg_val_c seg_nn3c\n",
    "bash infer.sh scc_i5c seg_val_c seg_i5c\n",
    "bash infer.sh scc_nn5c seg_val_c seg_nn5c"
   ]
  },
  {
   "cell_type": "code",
   "execution_count": null,
   "id": "9979496c",
   "metadata": {},
   "outputs": [],
   "source": [
    "bash train.sh inet_nn2 inet_nn2\n",
    "bash train.sh inet_nn5 inet_nn5\n",
    "bash train.sh inet_i2 inet_i2\n",
    "bash train.sh inet_i5 inet_i5\n",
    "bash train.sh inet_w2 inet_w2\n",
    "bash train.sh inet_w5 inet_w5\n",
    "bash train.sh inet_a2 inet_i2\n",
    "bash train.sh inet_a5 inet_i5\n",
    "\n",
    "bash train.sh inet_hid inet_hid\n",
    "bash train.sh inet_i2g inet_i2g\n",
    "bash train.sh inet_qmc inet_qmc\n",
    "\n",
    "python infer.py -c=inet_val -t=inet_i5\n",
    "bash infer.sh i1x_nn2 inet_val inet_nn2\n",
    "bash infer.sh i2x_nn2 in2x_val inet_nn2\n",
    "bash infer.sh i1x_nn5 inet_val inet_nn5\n",
    "bash infer.sh i2x_nn5 in2x_val inet_nn5\n",
    "bash infer.sh i1x_i2 inet_val inet_i2\n",
    "bash infer.sh i2x_i2 in2x_val inet_i2\n",
    "bash infer.sh i1x_i5 inet_val inet_i5\n",
    "bash infer.sh i2x_i5 in2x_val inet_i5\n",
    "bash infer.sh i1x_w2 inet_val inet_w2\n",
    "bash infer.sh i2x_w2 in2x_val inet_w2\n",
    "bash infer.sh i1x_w5 inet_val inet_w5\n",
    "bash infer.sh i2x_w5 in2x_val inet_w5\n",
    "\n",
    "bash infer.sh i1x_a2 inet_val inet_a2\n",
    "bash infer.sh i2x_a2 in2x_val inet_a2\n",
    "bash infer.sh i1x_a5 inet_val inet_a5\n",
    "bash infer.sh i2x_a5 in2x_val inet_a5\n",
    "\n",
    "bash infer.sh is_i2 ival_siren inet_i2\n",
    "bash infer.sh is_w2 ival_siren inet_w2\n",
    "bash infer.sh is_a2 ival_siren inet_a2\n",
    "bash infer.sh is_nn2 ival_siren inet_nn2"
   ]
  },
  {
   "cell_type": "code",
   "execution_count": null,
   "id": "29c6045b",
   "metadata": {},
   "outputs": [],
   "source": [
    "bash infer.sh grid_to_grid ival_grid inet_i2g\n",
    "bash infer.sh grid_to_qmc inet_val inet_i2g\n",
    "\n",
    "bash infer.sh hid_to_hid ival_hid inet_hid\n",
    "bash infer.sh hid_to_qmc ival_qmc inet_hid\n",
    "bash infer.sh qmc_to_hid ival_hid inet_qmc\n",
    "bash infer.sh qmc_to_grid ival_grid inet_i2\n",
    "bash infer.sh qmc_to_qmc ival_qmc inet_qmc\n",
    "bash infer.sh qmc_to_rqmc inet_val inet_qmc\n",
    "bash infer.sh qmc_to_grid ival_grid inet_qmc"
   ]
  },
  {
   "cell_type": "code",
   "execution_count": null,
   "id": "f8ca225b",
   "metadata": {},
   "outputs": [],
   "source": [
    "bash train.sh gen_nn4 gen_nn4\n",
    "bash train.sh gen_i4 gen_i4\n",
    "\n",
    "python infer.py -c=gen_val -t=gen_nn4\n",
    "bash infer.sh gv_nn4 gen_val gen_nn4\n",
    "bash infer.sh gv_i4 gen_val gen_i4"
   ]
  },
  {
   "cell_type": "code",
   "execution_count": null,
   "id": "3756ba81",
   "metadata": {},
   "outputs": [],
   "source": [
    "bash train.sh warp_i3 warp_i3"
   ]
  },
  {
   "cell_type": "code",
   "execution_count": null,
   "id": "9c5a130c",
   "metadata": {},
   "outputs": [],
   "source": [
    "bash infer.sh benchmark inet_val inet_i5"
   ]
  },
  {
   "cell_type": "markdown",
   "id": "a254bad6",
   "metadata": {
    "heading_collapsed": true
   },
   "source": [
    "### objectfolder"
   ]
  },
  {
   "cell_type": "code",
   "execution_count": null,
   "id": "7b5f3de0",
   "metadata": {
    "hidden": true
   },
   "outputs": [],
   "source": [
    "python OF_render.py --modality vision \\\n",
    "      --object_file_path /data/vision/polina/scratch/clintonw/datasets/objectfolder/ObjectFolder1-100/1/ObjectFile.pth \\\n",
    "      --vision_test_file_path ~/code/ObjectFolder/demo/vision_1.npy \\\n",
    "      --vision_results_dir ~/code/ObjectFolder/results\n"
   ]
  },
  {
   "cell_type": "code",
   "execution_count": 265,
   "id": "f7896fee",
   "metadata": {
    "hidden": true
   },
   "outputs": [],
   "source": [
    "x = torch.linspace(-1,1,16, dtype=torch.float, device='cuda')"
   ]
  },
  {
   "cell_type": "code",
   "execution_count": null,
   "id": "e900120f",
   "metadata": {
    "hidden": true
   },
   "outputs": [],
   "source": [
    "df['material'][0]"
   ]
  },
  {
   "cell_type": "code",
   "execution_count": 278,
   "id": "7ad15c63",
   "metadata": {
    "hidden": true
   },
   "outputs": [],
   "source": [
    "df = df[df['material'].isin(('Ceramic', 'Polycarbonate', 'Wood'))]"
   ]
  },
  {
   "cell_type": "code",
   "execution_count": null,
   "id": "9a1a5c55",
   "metadata": {
    "hidden": true
   },
   "outputs": [],
   "source": [
    "for n in df.index:\n",
    "    print(n)"
   ]
  },
  {
   "cell_type": "code",
   "execution_count": null,
   "id": "665678f7",
   "metadata": {
    "hidden": true
   },
   "outputs": [],
   "source": [
    "df = pd.read_csv(osp.expanduser('~/code/ObjectFolder/objects.csv'),\n",
    "                 names=['id', 'name', 'volume', 'material', 'url'], index_col=0)"
   ]
  },
  {
   "cell_type": "code",
   "execution_count": 256,
   "id": "a18de6a1",
   "metadata": {
    "hidden": true
   },
   "outputs": [],
   "source": [
    "df = pd.read_csv(osp.expanduser('~/code/ObjectFolder/objects300.csv'), index_col=0)"
   ]
  },
  {
   "cell_type": "code",
   "execution_count": 255,
   "id": "9dd2a307",
   "metadata": {
    "hidden": true
   },
   "outputs": [],
   "source": [
    "df[:300].to_csv(osp.expanduser('~/code/ObjectFolder/objects300.csv'))"
   ]
  },
  {
   "cell_type": "code",
   "execution_count": 224,
   "id": "2dfc0523",
   "metadata": {
    "hidden": true
   },
   "outputs": [],
   "source": [
    "out = np.load(osp.expanduser('~/code/ObjectFolder/demo/vision_1.npy'))"
   ]
  },
  {
   "cell_type": "code",
   "execution_count": null,
   "id": "156bd77e",
   "metadata": {
    "hidden": true
   },
   "outputs": [],
   "source": [
    "out"
   ]
  },
  {
   "cell_type": "code",
   "execution_count": 223,
   "id": "5d2b9eb9",
   "metadata": {
    "hidden": true
   },
   "outputs": [],
   "source": [
    "np.save(osp.expanduser('~/code/ObjectFolder/demo/vision_1.npy'), out[:1])"
   ]
  },
  {
   "cell_type": "code",
   "execution_count": null,
   "id": "a617422a",
   "metadata": {
    "hidden": true
   },
   "outputs": [],
   "source": [
    "bash train.sh gen_nn4 gen_nn4\n",
    "bash train.sh gen_i4 gen_i4\n",
    "python train.py -c=gen_nn4"
   ]
  },
  {
   "cell_type": "code",
   "execution_count": null,
   "id": "1ba7e3cf",
   "metadata": {
    "hidden": true
   },
   "outputs": [],
   "source": [
    "bash train.sh warp_inn warp_train\n",
    "bash train.sh warp_nn warp_nn"
   ]
  },
  {
   "cell_type": "markdown",
   "id": "d2766938",
   "metadata": {
    "heading_collapsed": true
   },
   "source": [
    "### random fourier features"
   ]
  },
  {
   "cell_type": "code",
   "execution_count": 16,
   "id": "5b9dbf92",
   "metadata": {
    "hidden": true
   },
   "outputs": [],
   "source": [
    "paths = util.glob2('/data/vision/polina/scratch/clintonw/datasets/inrnet/inet12/*/test_*.pt')\n",
    "# for path in paths:\n",
    "#     os.remove(path)"
   ]
  },
  {
   "cell_type": "code",
   "execution_count": null,
   "id": "c75d15a3",
   "metadata": {
    "hidden": true
   },
   "outputs": [],
   "source": [
    "path = '/data/vision/polina/scratch/clintonw/datasets/inrnet/cityscapes/fine_val_0.pt'\n",
    "sd,seg = torch.load(path)\n",
    "sinr = siren.Siren()\n",
    "sinr.load_state_dict(sd)\n",
    "sinr = siren.to_black_box([sinr])\n",
    "img = sinr.cuda().produce_images(256,256)"
   ]
  },
  {
   "cell_type": "code",
   "execution_count": 33,
   "id": "dc20d343",
   "metadata": {
    "hidden": true
   },
   "outputs": [],
   "source": [
    "path = '/data/vision/polina/scratch/clintonw/datasets/inrnet/inet12/6/val_4.pt'\n",
    "sd = torch.load(path)\n",
    "sinr = siren.Siren()\n",
    "sinr.load_state_dict(sd)\n",
    "sinr = siren.to_black_box([sinr])\n",
    "img = sinr.cuda().produce_images(256,256)"
   ]
  },
  {
   "cell_type": "code",
   "execution_count": 35,
   "id": "a0380ad9",
   "metadata": {
    "hidden": true
   },
   "outputs": [],
   "source": [
    "path = '/data/vision/polina/scratch/clintonw/datasets/inrnet/inet12/6/test_4.pt'\n",
    "sd = torch.load(path)\n",
    "inr = rff.RFFNet()\n",
    "inr.load_state_dict(sd)\n",
    "inr = rff.to_black_box([inr])\n",
    "img2 = inr.cuda().produce_images(256,256)"
   ]
  },
  {
   "cell_type": "code",
   "execution_count": null,
   "id": "8a068f08",
   "metadata": {
    "hidden": true
   },
   "outputs": [],
   "source": [
    "import imgviz\n",
    "labelviz_pred = imgviz.label2rgb(seg.max(0).indices)\n",
    "plt.imshow(labelviz_pred); plt.axis('off')"
   ]
  },
  {
   "cell_type": "code",
   "execution_count": null,
   "id": "1e615945",
   "metadata": {
    "hidden": true
   },
   "outputs": [],
   "source": [
    "util.imshow(img)"
   ]
  },
  {
   "cell_type": "code",
   "execution_count": null,
   "id": "c8aa9de7",
   "metadata": {
    "hidden": true
   },
   "outputs": [],
   "source": [
    "util.imshow(torch.cat(((img+1)/2, img2), dim=-1))"
   ]
  },
  {
   "cell_type": "code",
   "execution_count": 163,
   "id": "f3102aa7",
   "metadata": {
    "hidden": true
   },
   "outputs": [],
   "source": [
    "m = torchvision.models.resnet18(pretrained=False)"
   ]
  },
  {
   "cell_type": "markdown",
   "id": "6211a09e",
   "metadata": {
    "heading_collapsed": true
   },
   "source": [
    "### audio"
   ]
  },
  {
   "cell_type": "code",
   "execution_count": 92,
   "id": "047b7d70",
   "metadata": {
    "hidden": true
   },
   "outputs": [],
   "source": [
    "df = pd.read_csv(f'{DS_DIR}/environmental-sound-classification/esc50.csv')\n",
    "classes = np.array(df[['target', 'category']]).tolist()\n",
    "classes = set(['{} {}'.format(c[0], c[1]) for c in classes])\n",
    "classes = np.array([c.split(' ') for c in classes])\n",
    "classes = {k: v for k, v in classes}"
   ]
  },
  {
   "cell_type": "code",
   "execution_count": null,
   "id": "7a3c130b",
   "metadata": {
    "hidden": true
   },
   "outputs": [],
   "source": [
    "classes"
   ]
  },
  {
   "cell_type": "code",
   "execution_count": 95,
   "id": "b8aca694",
   "metadata": {
    "hidden": true
   },
   "outputs": [],
   "source": [
    "from inrnet.data.audio import utils\n",
    "ESC50 = utils.ESC50"
   ]
  },
  {
   "cell_type": "code",
   "execution_count": null,
   "id": "b089c54c",
   "metadata": {
    "hidden": true
   },
   "outputs": [],
   "source": [
    "train_splits = [1,2,3,4]\n",
    "test_split = 5\n",
    "\n",
    "shared_params = {'csv_path': f'{DS_DIR}/environmental-sound-classification/esc50.csv',\n",
    "                 'wav_dir': f'{DS_DIR}/environmental-sound-classification/audio',\n",
    "                 'dest_dir': f'{DS_DIR}/environmental-sound-classification/16000',\n",
    "                 'audio_rate': 16000,\n",
    "                 'only_ESC10': True,\n",
    "                 'pad': 0,\n",
    "                 'normalize': True}\n",
    "\n",
    "train_gen = ESC50(folds=train_splits,\n",
    "                  randomize=True,\n",
    "                  strongAugment=True,\n",
    "                  random_crop=True,\n",
    "                  inputLength=2,\n",
    "                  mix=True,\n",
    "                  **shared_params).batch_gen(16)\n",
    "\n",
    "test_gen = ESC50(folds=[test_split],\n",
    "                 randomize=False,\n",
    "                 strongAugment=False,\n",
    "                 random_crop=False,\n",
    "                 inputLength=4,\n",
    "                 mix=False,\n",
    "                 **shared_params).batch_gen(16)\n",
    "\n",
    "X, Y = next(train_gen)"
   ]
  },
  {
   "cell_type": "code",
   "execution_count": null,
   "id": "cf364dfd",
   "metadata": {
    "hidden": true
   },
   "outputs": [],
   "source": []
  },
  {
   "cell_type": "markdown",
   "id": "17e9e4c7",
   "metadata": {
    "heading_collapsed": true
   },
   "source": [
    "### swin"
   ]
  },
  {
   "cell_type": "code",
   "execution_count": 156,
   "id": "fc9c43ab",
   "metadata": {
    "hidden": true
   },
   "outputs": [],
   "source": [
    "sd = torch.load('/data/vision/polina/users/clintonw/code/diffcoord/temp/upernet_deit.pth')['state_dict']"
   ]
  },
  {
   "cell_type": "code",
   "execution_count": 158,
   "id": "9c289793",
   "metadata": {
    "hidden": true
   },
   "outputs": [
    {
     "data": {
      "text/plain": [
       "torch.Size([384, 3, 16, 16])"
      ]
     },
     "execution_count": 158,
     "metadata": {},
     "output_type": "execute_result"
    }
   ],
   "source": [
    "sd['backbone.patch_embed.projection.weight'].shape"
   ]
  },
  {
   "cell_type": "code",
   "execution_count": 157,
   "id": "e2372141",
   "metadata": {
    "hidden": true
   },
   "outputs": [
    {
     "data": {
      "text/plain": [
       "odict_keys(['backbone.cls_token', 'backbone.pos_embed', 'backbone.patch_embed.projection.weight', 'backbone.patch_embed.projection.bias', 'backbone.layers.0.ln1.weight', 'backbone.layers.0.ln1.bias', 'backbone.layers.0.attn.attn.in_proj_weight', 'backbone.layers.0.attn.attn.in_proj_bias', 'backbone.layers.0.attn.attn.out_proj.weight', 'backbone.layers.0.attn.attn.out_proj.bias', 'backbone.layers.0.ln2.weight', 'backbone.layers.0.ln2.bias', 'backbone.layers.0.ffn.layers.0.0.weight', 'backbone.layers.0.ffn.layers.0.0.bias', 'backbone.layers.0.ffn.layers.1.weight', 'backbone.layers.0.ffn.layers.1.bias', 'backbone.layers.1.ln1.weight', 'backbone.layers.1.ln1.bias', 'backbone.layers.1.attn.attn.in_proj_weight', 'backbone.layers.1.attn.attn.in_proj_bias', 'backbone.layers.1.attn.attn.out_proj.weight', 'backbone.layers.1.attn.attn.out_proj.bias', 'backbone.layers.1.ln2.weight', 'backbone.layers.1.ln2.bias', 'backbone.layers.1.ffn.layers.0.0.weight', 'backbone.layers.1.ffn.layers.0.0.bias', 'backbone.layers.1.ffn.layers.1.weight', 'backbone.layers.1.ffn.layers.1.bias', 'backbone.layers.2.ln1.weight', 'backbone.layers.2.ln1.bias', 'backbone.layers.2.attn.attn.in_proj_weight', 'backbone.layers.2.attn.attn.in_proj_bias', 'backbone.layers.2.attn.attn.out_proj.weight', 'backbone.layers.2.attn.attn.out_proj.bias', 'backbone.layers.2.ln2.weight', 'backbone.layers.2.ln2.bias', 'backbone.layers.2.ffn.layers.0.0.weight', 'backbone.layers.2.ffn.layers.0.0.bias', 'backbone.layers.2.ffn.layers.1.weight', 'backbone.layers.2.ffn.layers.1.bias', 'backbone.layers.3.ln1.weight', 'backbone.layers.3.ln1.bias', 'backbone.layers.3.attn.attn.in_proj_weight', 'backbone.layers.3.attn.attn.in_proj_bias', 'backbone.layers.3.attn.attn.out_proj.weight', 'backbone.layers.3.attn.attn.out_proj.bias', 'backbone.layers.3.ln2.weight', 'backbone.layers.3.ln2.bias', 'backbone.layers.3.ffn.layers.0.0.weight', 'backbone.layers.3.ffn.layers.0.0.bias', 'backbone.layers.3.ffn.layers.1.weight', 'backbone.layers.3.ffn.layers.1.bias', 'backbone.layers.4.ln1.weight', 'backbone.layers.4.ln1.bias', 'backbone.layers.4.attn.attn.in_proj_weight', 'backbone.layers.4.attn.attn.in_proj_bias', 'backbone.layers.4.attn.attn.out_proj.weight', 'backbone.layers.4.attn.attn.out_proj.bias', 'backbone.layers.4.ln2.weight', 'backbone.layers.4.ln2.bias', 'backbone.layers.4.ffn.layers.0.0.weight', 'backbone.layers.4.ffn.layers.0.0.bias', 'backbone.layers.4.ffn.layers.1.weight', 'backbone.layers.4.ffn.layers.1.bias', 'backbone.layers.5.ln1.weight', 'backbone.layers.5.ln1.bias', 'backbone.layers.5.attn.attn.in_proj_weight', 'backbone.layers.5.attn.attn.in_proj_bias', 'backbone.layers.5.attn.attn.out_proj.weight', 'backbone.layers.5.attn.attn.out_proj.bias', 'backbone.layers.5.ln2.weight', 'backbone.layers.5.ln2.bias', 'backbone.layers.5.ffn.layers.0.0.weight', 'backbone.layers.5.ffn.layers.0.0.bias', 'backbone.layers.5.ffn.layers.1.weight', 'backbone.layers.5.ffn.layers.1.bias', 'backbone.layers.6.ln1.weight', 'backbone.layers.6.ln1.bias', 'backbone.layers.6.attn.attn.in_proj_weight', 'backbone.layers.6.attn.attn.in_proj_bias', 'backbone.layers.6.attn.attn.out_proj.weight', 'backbone.layers.6.attn.attn.out_proj.bias', 'backbone.layers.6.ln2.weight', 'backbone.layers.6.ln2.bias', 'backbone.layers.6.ffn.layers.0.0.weight', 'backbone.layers.6.ffn.layers.0.0.bias', 'backbone.layers.6.ffn.layers.1.weight', 'backbone.layers.6.ffn.layers.1.bias', 'backbone.layers.7.ln1.weight', 'backbone.layers.7.ln1.bias', 'backbone.layers.7.attn.attn.in_proj_weight', 'backbone.layers.7.attn.attn.in_proj_bias', 'backbone.layers.7.attn.attn.out_proj.weight', 'backbone.layers.7.attn.attn.out_proj.bias', 'backbone.layers.7.ln2.weight', 'backbone.layers.7.ln2.bias', 'backbone.layers.7.ffn.layers.0.0.weight', 'backbone.layers.7.ffn.layers.0.0.bias', 'backbone.layers.7.ffn.layers.1.weight', 'backbone.layers.7.ffn.layers.1.bias', 'backbone.layers.8.ln1.weight', 'backbone.layers.8.ln1.bias', 'backbone.layers.8.attn.attn.in_proj_weight', 'backbone.layers.8.attn.attn.in_proj_bias', 'backbone.layers.8.attn.attn.out_proj.weight', 'backbone.layers.8.attn.attn.out_proj.bias', 'backbone.layers.8.ln2.weight', 'backbone.layers.8.ln2.bias', 'backbone.layers.8.ffn.layers.0.0.weight', 'backbone.layers.8.ffn.layers.0.0.bias', 'backbone.layers.8.ffn.layers.1.weight', 'backbone.layers.8.ffn.layers.1.bias', 'backbone.layers.9.ln1.weight', 'backbone.layers.9.ln1.bias', 'backbone.layers.9.attn.attn.in_proj_weight', 'backbone.layers.9.attn.attn.in_proj_bias', 'backbone.layers.9.attn.attn.out_proj.weight', 'backbone.layers.9.attn.attn.out_proj.bias', 'backbone.layers.9.ln2.weight', 'backbone.layers.9.ln2.bias', 'backbone.layers.9.ffn.layers.0.0.weight', 'backbone.layers.9.ffn.layers.0.0.bias', 'backbone.layers.9.ffn.layers.1.weight', 'backbone.layers.9.ffn.layers.1.bias', 'backbone.layers.10.ln1.weight', 'backbone.layers.10.ln1.bias', 'backbone.layers.10.attn.attn.in_proj_weight', 'backbone.layers.10.attn.attn.in_proj_bias', 'backbone.layers.10.attn.attn.out_proj.weight', 'backbone.layers.10.attn.attn.out_proj.bias', 'backbone.layers.10.ln2.weight', 'backbone.layers.10.ln2.bias', 'backbone.layers.10.ffn.layers.0.0.weight', 'backbone.layers.10.ffn.layers.0.0.bias', 'backbone.layers.10.ffn.layers.1.weight', 'backbone.layers.10.ffn.layers.1.bias', 'backbone.layers.11.ln1.weight', 'backbone.layers.11.ln1.bias', 'backbone.layers.11.attn.attn.in_proj_weight', 'backbone.layers.11.attn.attn.in_proj_bias', 'backbone.layers.11.attn.attn.out_proj.weight', 'backbone.layers.11.attn.attn.out_proj.bias', 'backbone.layers.11.ln2.weight', 'backbone.layers.11.ln2.bias', 'backbone.layers.11.ffn.layers.0.0.weight', 'backbone.layers.11.ffn.layers.0.0.bias', 'backbone.layers.11.ffn.layers.1.weight', 'backbone.layers.11.ffn.layers.1.bias', 'decode_head.conv_seg.weight', 'decode_head.conv_seg.bias', 'decode_head.psp_modules.0.1.conv.weight', 'decode_head.psp_modules.0.1.bn.weight', 'decode_head.psp_modules.0.1.bn.bias', 'decode_head.psp_modules.0.1.bn.running_mean', 'decode_head.psp_modules.0.1.bn.running_var', 'decode_head.psp_modules.0.1.bn.num_batches_tracked', 'decode_head.psp_modules.1.1.conv.weight', 'decode_head.psp_modules.1.1.bn.weight', 'decode_head.psp_modules.1.1.bn.bias', 'decode_head.psp_modules.1.1.bn.running_mean', 'decode_head.psp_modules.1.1.bn.running_var', 'decode_head.psp_modules.1.1.bn.num_batches_tracked', 'decode_head.psp_modules.2.1.conv.weight', 'decode_head.psp_modules.2.1.bn.weight', 'decode_head.psp_modules.2.1.bn.bias', 'decode_head.psp_modules.2.1.bn.running_mean', 'decode_head.psp_modules.2.1.bn.running_var', 'decode_head.psp_modules.2.1.bn.num_batches_tracked', 'decode_head.psp_modules.3.1.conv.weight', 'decode_head.psp_modules.3.1.bn.weight', 'decode_head.psp_modules.3.1.bn.bias', 'decode_head.psp_modules.3.1.bn.running_mean', 'decode_head.psp_modules.3.1.bn.running_var', 'decode_head.psp_modules.3.1.bn.num_batches_tracked', 'decode_head.bottleneck.conv.weight', 'decode_head.bottleneck.bn.weight', 'decode_head.bottleneck.bn.bias', 'decode_head.bottleneck.bn.running_mean', 'decode_head.bottleneck.bn.running_var', 'decode_head.bottleneck.bn.num_batches_tracked', 'decode_head.lateral_convs.0.conv.weight', 'decode_head.lateral_convs.0.bn.weight', 'decode_head.lateral_convs.0.bn.bias', 'decode_head.lateral_convs.0.bn.running_mean', 'decode_head.lateral_convs.0.bn.running_var', 'decode_head.lateral_convs.0.bn.num_batches_tracked', 'decode_head.lateral_convs.1.conv.weight', 'decode_head.lateral_convs.1.bn.weight', 'decode_head.lateral_convs.1.bn.bias', 'decode_head.lateral_convs.1.bn.running_mean', 'decode_head.lateral_convs.1.bn.running_var', 'decode_head.lateral_convs.1.bn.num_batches_tracked', 'decode_head.lateral_convs.2.conv.weight', 'decode_head.lateral_convs.2.bn.weight', 'decode_head.lateral_convs.2.bn.bias', 'decode_head.lateral_convs.2.bn.running_mean', 'decode_head.lateral_convs.2.bn.running_var', 'decode_head.lateral_convs.2.bn.num_batches_tracked', 'decode_head.fpn_convs.0.conv.weight', 'decode_head.fpn_convs.0.bn.weight', 'decode_head.fpn_convs.0.bn.bias', 'decode_head.fpn_convs.0.bn.running_mean', 'decode_head.fpn_convs.0.bn.running_var', 'decode_head.fpn_convs.0.bn.num_batches_tracked', 'decode_head.fpn_convs.1.conv.weight', 'decode_head.fpn_convs.1.bn.weight', 'decode_head.fpn_convs.1.bn.bias', 'decode_head.fpn_convs.1.bn.running_mean', 'decode_head.fpn_convs.1.bn.running_var', 'decode_head.fpn_convs.1.bn.num_batches_tracked', 'decode_head.fpn_convs.2.conv.weight', 'decode_head.fpn_convs.2.bn.weight', 'decode_head.fpn_convs.2.bn.bias', 'decode_head.fpn_convs.2.bn.running_mean', 'decode_head.fpn_convs.2.bn.running_var', 'decode_head.fpn_convs.2.bn.num_batches_tracked', 'decode_head.fpn_bottleneck.conv.weight', 'decode_head.fpn_bottleneck.bn.weight', 'decode_head.fpn_bottleneck.bn.bias', 'decode_head.fpn_bottleneck.bn.running_mean', 'decode_head.fpn_bottleneck.bn.running_var', 'decode_head.fpn_bottleneck.bn.num_batches_tracked', 'auxiliary_head.conv_seg.weight', 'auxiliary_head.conv_seg.bias', 'auxiliary_head.convs.0.conv.weight', 'auxiliary_head.convs.0.bn.weight', 'auxiliary_head.convs.0.bn.bias', 'auxiliary_head.convs.0.bn.running_mean', 'auxiliary_head.convs.0.bn.running_var', 'auxiliary_head.convs.0.bn.num_batches_tracked'])"
      ]
     },
     "execution_count": 157,
     "metadata": {},
     "output_type": "execute_result"
    }
   ],
   "source": [
    "sd.keys()"
   ]
  },
  {
   "cell_type": "code",
   "execution_count": null,
   "id": "252b7a0e",
   "metadata": {
    "hidden": true
   },
   "outputs": [],
   "source": []
  },
  {
   "cell_type": "code",
   "execution_count": null,
   "id": "c77b1136",
   "metadata": {
    "hidden": true
   },
   "outputs": [],
   "source": []
  },
  {
   "cell_type": "code",
   "execution_count": null,
   "id": "efc0e47d",
   "metadata": {
    "hidden": true
   },
   "outputs": [],
   "source": []
  },
  {
   "cell_type": "markdown",
   "id": "beaa6594",
   "metadata": {
    "heading_collapsed": true
   },
   "source": [
    "### fashionMNIST"
   ]
  },
  {
   "cell_type": "code",
   "execution_count": 36,
   "id": "760a99c6",
   "metadata": {
    "hidden": true
   },
   "outputs": [
    {
     "data": {
      "text/plain": [
       "60000"
      ]
     },
     "execution_count": 36,
     "metadata": {},
     "output_type": "execute_result"
    }
   ],
   "source": [
    "ds = torchvision.datasets.FashionMNIST(root=DS_DIR, train=True)#, transform=transforms.ToTensor())\n",
    "len(ds)\n",
    "#inr = siren.Siren(out_channels=1, C=64, first_omega_0=20, hidden_omega_0=20)\n",
    "# xy = util.meshgrid_coords(28,28, c2f=False)\n",
    "# r = xy.norm(dim=-1)\n",
    "# torch.sin(theta)\n",
    "# maxr_theta = min()\n",
    "# theta = torch.atan2(xy[:,1], xy[:,0])\n",
    "# theta.max()\n",
    "# plt.imshow(ds[0][0][0], cmap='gray')"
   ]
  },
  {
   "cell_type": "code",
   "execution_count": null,
   "id": "cf1095b5",
   "metadata": {
    "hidden": true
   },
   "outputs": [],
   "source": [
    "paths = [f\"{DS_DIR}/inrnet/fmnist/train_{ix}.pt\" for ix in range(60000)]\n",
    "paths = [p for p in paths if osp.exists(p)]"
   ]
  },
  {
   "cell_type": "code",
   "execution_count": 48,
   "id": "b14bd993",
   "metadata": {
    "hidden": true
   },
   "outputs": [],
   "source": [
    "for p in paths:\n",
    "    x = osp.basename(p)[:-3]\n",
    "    x = x[x.find('_')+1:]\n",
    "    ix = int(x)\n",
    "    ix_to_cls[ix] = torch.load(p)[1]\n",
    "    break"
   ]
  },
  {
   "cell_type": "code",
   "execution_count": 39,
   "id": "057a32f4",
   "metadata": {
    "hidden": true
   },
   "outputs": [],
   "source": [
    "torch.save(ix_to_cls, f\"{DS_DIR}/inrnet/fmnist/ix_to_cls.pt\")"
   ]
  },
  {
   "cell_type": "markdown",
   "id": "ab37bb7b",
   "metadata": {
    "heading_collapsed": true
   },
   "source": [
    "### warp"
   ]
  },
  {
   "cell_type": "code",
   "execution_count": 175,
   "id": "8a1801d3",
   "metadata": {
    "hidden": true
   },
   "outputs": [],
   "source": [
    "subset='train'\n",
    "paths = util.glob2(f\"{DS_DIR}/inrnet/oasis/{subset}_*_0.pt\")"
   ]
  },
  {
   "cell_type": "code",
   "execution_count": null,
   "id": "f9e94cb7",
   "metadata": {
    "hidden": true
   },
   "outputs": [],
   "source": [
    "torch.load(paths[0])[0]['net.4.weight'].shape"
   ]
  },
  {
   "cell_type": "code",
   "execution_count": null,
   "id": "f0153f2f",
   "metadata": {
    "hidden": true
   },
   "outputs": [],
   "source": [
    "labels = open('/data/vision/polina/scratch/clintonw/datasets/oasis/seg4_labels.txt', 'r')\n",
    "labels.readlines()\n",
    "\n",
    "orig_img /= orig_img.max()\n",
    "orig_seg = (seg==3).float()\n",
    "vf2df = DVF2DDF()\n",
    "warp = Warp()\n",
    "VFs = F.interpolate(torch.randn(3,2,H//16,W//16), scale_factor=16)*2 + \\\n",
    "      F.interpolate(torch.randn(3,2,H//8,W//8), scale_factor=8) + \\\n",
    "      F.interpolate(torch.randn(3,2,H//4,W//4), scale_factor=4)/2\n",
    "VFs[1:2] = VFs[:1]+VFs[1:2]\n",
    "VFs[2:3] = VFs[1:2]+VFs[2:3]\n",
    "w1 = warp(orig_img, vf2df(VFs[:1]))\n",
    "w2 = warp(orig_img, vf2df(VFs[1:2]))\n",
    "w3 = warp(orig_img, vf2df(VFs[2:3]))\n",
    "s1 = warp(orig_seg, vf2df(VFs[:1]))\n",
    "s2 = warp(orig_seg, vf2df(VFs[1:2]))\n",
    "s3 = warp(orig_seg, vf2df(VFs[2:3]))\n",
    "segs = (orig_seg.bool(), s1>.5, s2>.5, s3>.5)\n",
    "\n",
    "plt.imshow(s3.squeeze())"
   ]
  },
  {
   "cell_type": "markdown",
   "id": "bc7f45a6",
   "metadata": {},
   "source": [
    "### etc"
   ]
  },
  {
   "cell_type": "code",
   "execution_count": 215,
   "id": "6e4d742e",
   "metadata": {},
   "outputs": [],
   "source": [
    "sd = torch.load('/data/vision/polina/users/clintonw/code/diffcoord/temp/wgan.pth')['state_dict']"
   ]
  },
  {
   "cell_type": "code",
   "execution_count": 181,
   "id": "b838a0b3",
   "metadata": {},
   "outputs": [],
   "source": [
    "base = torchvision.models.efficientnet_b0(pretrained=False, device='cuda')\n",
    "optim = torch.optim.Adam(base.parameters())\n",
    "optim.zero_grad()"
   ]
  },
  {
   "cell_type": "code",
   "execution_count": null,
   "id": "e8dcbed6",
   "metadata": {},
   "outputs": [],
   "source": [
    "CUDA_VISIBLE_DEVICES=3 python train.py -j=inet2 -c=inet"
   ]
  },
  {
   "cell_type": "code",
   "execution_count": 6,
   "id": "2dadce13",
   "metadata": {},
   "outputs": [],
   "source": [
    "\n",
    "from inrnet.models.common import Conv2, Conv5\n",
    "from inrnet.inn.nets.effnet import InrCls2, InrCls4, InrClsWide2, InrClsWide4"
   ]
  },
  {
   "cell_type": "code",
   "execution_count": null,
   "id": "4e698d38",
   "metadata": {},
   "outputs": [],
   "source": [
    "kwargs = dict(in_channels=3, out_dims=12)\n",
    "for m in (Conv2, Conv5, InrCls2, InrClsWide2, InrCls4, InrClsWide4):\n",
    "    print(count_parameters(m(**kwargs)))"
   ]
  },
  {
   "cell_type": "code",
   "execution_count": 5,
   "id": "477ffec1",
   "metadata": {
    "code_folding": [
     0
    ]
   },
   "outputs": [],
   "source": [
    "def count_parameters(model):\n",
    "    return sum(p.numel() for p in model.parameters() if p.requires_grad)"
   ]
  },
  {
   "cell_type": "code",
   "execution_count": 97,
   "id": "59773cbb",
   "metadata": {},
   "outputs": [],
   "source": [
    "base = torch.load(osp.expanduser('~/code/diffcoord/temp/upernet_convnext.pth'))"
   ]
  },
  {
   "cell_type": "code",
   "execution_count": 203,
   "id": "36317def",
   "metadata": {},
   "outputs": [],
   "source": [
    "img = plt.imread('/data/vision/polina/scratch/clintonw/datasets/cityscapes/gtCoarse/val/frankfurt/frankfurt_000001_080091_gtCoarse_labelIds.png')"
   ]
  },
  {
   "cell_type": "code",
   "execution_count": null,
   "id": "bf91f4d7",
   "metadata": {},
   "outputs": [],
   "source": [
    "base = torchvision.models.efficientnet_b0(pretrained=True)\n",
    "base"
   ]
  },
  {
   "cell_type": "code",
   "execution_count": 42,
   "id": "4a176363",
   "metadata": {},
   "outputs": [],
   "source": [
    "DS_DIR = \"/data/vision/polina/scratch/clintonw/datasets\"\n",
    "ds = torchvision.datasets.CIFAR10(root=DS_DIR, transform=transforms.ToTensor())"
   ]
  },
  {
   "cell_type": "code",
   "execution_count": 78,
   "id": "90ff5d79",
   "metadata": {},
   "outputs": [],
   "source": [
    "torch.cuda.empty_cache()\n",
    "coords = util.meshgrid_coords(64,64)\n",
    "#spacing = torch.tensor((4/127,4/127), device=\"cuda\")\n",
    "values = torch.randn(coords.size(0),6, device=coords.device)"
   ]
  },
  {
   "cell_type": "code",
   "execution_count": 2,
   "id": "a6cd22e4",
   "metadata": {
    "scrolled": true
   },
   "outputs": [
    {
     "name": "stdout",
     "output_type": "stream",
     "text": [
      "/data/vision/polina/users/clintonw/code/inrnet/inrnet/data/cityscapes.py\n",
      "/data/vision/polina/users/clintonw/code/inrnet/inrnet/data/inet.py\n"
     ]
    }
   ],
   "source": [
    "## search python strings\n",
    "import os\n",
    "osp = os.path\n",
    "root = osp.expanduser(\"~/code/inrnet/inrnet\")\n",
    "query_string = \"dropping l\"\n",
    "for folder, subfolders, files in os.walk(root):\n",
    "    for file in files:\n",
    "        if file.endswith(\".py\"):\n",
    "            path = osp.join(folder, file)\n",
    "            with open(path, 'r') as f:\n",
    "                if query_string in f.read():\n",
    "                    print(path)"
   ]
  },
  {
   "cell_type": "code",
   "execution_count": null,
   "id": "2b0f97c2",
   "metadata": {},
   "outputs": [],
   "source": []
  },
  {
   "cell_type": "markdown",
   "id": "64d0a8ff",
   "metadata": {
    "heading_collapsed": true
   },
   "source": [
    "### sympy"
   ]
  },
  {
   "cell_type": "code",
   "execution_count": 151,
   "id": "be5516b9",
   "metadata": {
    "hidden": true
   },
   "outputs": [],
   "source": [
    "from sympy import sin, cos, tan, exp, log, integrate\n",
    "from sympy.abc import a,b,c,n,m,x,y\n",
    "from sympy import Point, Polygon\n",
    "from sympy.integrals.intpoly import polytope_integrate"
   ]
  },
  {
   "cell_type": "code",
   "execution_count": 149,
   "id": "7009a71e",
   "metadata": {
    "hidden": true
   },
   "outputs": [],
   "source": [
    "from sympy.functions.special import polynomials, spherical_harmonics"
   ]
  },
  {
   "cell_type": "code",
   "execution_count": 173,
   "id": "80b1e244",
   "metadata": {
    "hidden": true
   },
   "outputs": [],
   "source": [
    "function = (3*polynomials.legendre(2, x)-2*polynomials.legendre(1, x) - 1) * \\\n",
    "    (.6*polynomials.legendre(4, y)-polynomials.legendre(1, y)+1.1)"
   ]
  },
  {
   "cell_type": "code",
   "execution_count": null,
   "id": "98793e74",
   "metadata": {
    "hidden": true
   },
   "outputs": [],
   "source": [
    "function"
   ]
  },
  {
   "cell_type": "code",
   "execution_count": 162,
   "id": "ea1805dc",
   "metadata": {
    "hidden": true
   },
   "outputs": [],
   "source": [
    "polygon = Polygon(Point(0, 0), Point(0, 1), Point(1, 1), Point(1, 0))\n",
    "# polys = [1, x, y, x*y, x**2*y, x*y**2]\n",
    "# expr = x*y"
   ]
  },
  {
   "cell_type": "code",
   "execution_count": 174,
   "id": "0ece5d14",
   "metadata": {
    "hidden": true
   },
   "outputs": [
    {
     "data": {
      "text/latex": [
       "$\\displaystyle \\text{NaN}$"
      ],
      "text/plain": [
       "nan"
      ]
     },
     "execution_count": 174,
     "metadata": {},
     "output_type": "execute_result"
    }
   ],
   "source": [
    "polytope_integrate(polygon, expr=function)"
   ]
  },
  {
   "cell_type": "code",
   "execution_count": 146,
   "id": "4fd10b19",
   "metadata": {
    "hidden": true
   },
   "outputs": [
    {
     "data": {
      "text/latex": [
       "$\\displaystyle \\frac{1}{4}$"
      ],
      "text/plain": [
       "1/4"
      ]
     },
     "execution_count": 146,
     "metadata": {},
     "output_type": "execute_result"
    }
   ],
   "source": [
    "polytope_integrate(polygon, expr=expr)"
   ]
  },
  {
   "cell_type": "code",
   "execution_count": 147,
   "id": "6a7fb1fe",
   "metadata": {
    "hidden": true
   },
   "outputs": [
    {
     "data": {
      "text/plain": [
       "{1: 1, x: 1/2, y: 1/2, x*y: 1/4, x**2*y: 1/6, x*y**2: 1/6}"
      ]
     },
     "execution_count": 147,
     "metadata": {},
     "output_type": "execute_result"
    }
   ],
   "source": [
    "polytope_integrate(polygon, polys, max_degree=3)"
   ]
  },
  {
   "cell_type": "code",
   "execution_count": null,
   "id": "b30ada89",
   "metadata": {
    "hidden": true
   },
   "outputs": [],
   "source": []
  },
  {
   "cell_type": "markdown",
   "id": "b92bdc5c",
   "metadata": {
    "heading_collapsed": true
   },
   "source": [
    "### inet12"
   ]
  },
  {
   "cell_type": "code",
   "execution_count": 3,
   "id": "2628a836",
   "metadata": {
    "hidden": true
   },
   "outputs": [],
   "source": [
    "from inrnet.models.inrs import siren\n",
    "keys = siren.get_siren_keys()"
   ]
  },
  {
   "cell_type": "code",
   "execution_count": 12,
   "id": "3e1e98b2",
   "metadata": {
    "hidden": true
   },
   "outputs": [],
   "source": [
    "from robustness.tools.imagenet_helpers import ImageNetHierarchy, common_superclass_wnid\n",
    "in_path = '/data/vision/polina/scratch/clintonw/datasets/imagenet_pytorch'\n",
    "in_hier = ImageNetHierarchy(in_path, in_path)\n",
    "superclass_wnid = common_superclass_wnid('big_12')\n",
    "class_ranges, label_map = in_hier.get_subclasses(superclass_wnid,\n",
    "                                                 balanced=True)"
   ]
  },
  {
   "cell_type": "code",
   "execution_count": 10,
   "id": "97d8a2b4",
   "metadata": {
    "hidden": true
   },
   "outputs": [],
   "source": [
    "subpaths = open(\"/data/vision/polina/scratch/clintonw/datasets/imagenet_pytorch/train.txt\",\n",
    "            \"r\").read().split('\\n')\n",
    "labels = open(\"/data/vision/polina/scratch/clintonw/datasets/imagenet_pytorch/labels.txt\",\n",
    "            \"r\").read().split('\\n')\n",
    "labels = [l[:l.find(',')] for l in labels[:-1]]\n",
    "class_labels = [np.array(labels)[list(cr)].tolist() for cr in class_ranges]"
   ]
  },
  {
   "cell_type": "code",
   "execution_count": null,
   "id": "e8c85014",
   "metadata": {
    "hidden": true
   },
   "outputs": [],
   "source": [
    "sub_to_super = {}\n",
    "for supercls,subclasses in enumerate(class_ranges):\n",
    "    for subcls in subclasses:\n",
    "        sub_to_super[subcls] = supercls\n",
    "\n",
    "# big12path = f\"{DS_DIR}/inrnet/big_12.pkl\"\n",
    "# pickle.dump((label_map, class_ranges, sub_to_super), open(big12path, 'wb'))\n",
    "# label_map, class_ranges, sub_to_super = pickle.load(open(big12path, 'rb'))"
   ]
  },
  {
   "cell_type": "code",
   "execution_count": null,
   "id": "32d9070c",
   "metadata": {
    "hidden": true
   },
   "outputs": [],
   "source": [
    "label_to_super = {}\n",
    "for supercls,subclasses in enumerate(class_labels):\n",
    "    for subcls in subclasses:\n",
    "        label_to_super[subcls] = supercls"
   ]
  },
  {
   "cell_type": "code",
   "execution_count": null,
   "id": "4dc7405f",
   "metadata": {
    "hidden": true
   },
   "outputs": [],
   "source": [
    "N = 800\n",
    "subpaths_by_cls = [[] for _ in range(12)]\n",
    "for path in subpaths:\n",
    "    label = osp.basename(osp.dirname(path))\n",
    "    if label in label_to_super.keys():\n",
    "        subpaths_by_cls[label_to_super[label]].append(path)\n",
    "\n",
    "for p in subpaths_by_cls:\n",
    "    np.random.shuffle(p)\n",
    "\n",
    "split_paths_by_cls = {'train':[p[:N] for p in subpaths_by_cls],\n",
    "                     'test':[p[N:] for p in subpaths_by_cls]}\n",
    "\n",
    "# big12path = f\"{DS_DIR}/inrnet/big_12_labels.pkl\"\n",
    "# pickle.dump((split_paths_by_cls, class_labels, label_to_super), open(big12path, 'wb'))\n",
    "# split_paths_by_cls, class_labels, label_to_super = pickle.load(open(big12path, 'rb'))"
   ]
  },
  {
   "cell_type": "code",
   "execution_count": 19,
   "id": "70d73b3e",
   "metadata": {
    "hidden": true
   },
   "outputs": [],
   "source": [
    "subpaths_by_cls = [[] for _ in range(12)]\n",
    "for path in subpaths:\n",
    "    label = osp.basename(osp.dirname(path))\n",
    "    if label in label_to_super.keys():\n",
    "        subpaths_by_cls[label_to_super[label]].append(path)\n",
    "\n",
    "for p in subpaths_by_cls:\n",
    "    np.random.shuffle(p)"
   ]
  },
  {
   "cell_type": "code",
   "execution_count": 26,
   "id": "c6d774b2",
   "metadata": {
    "hidden": true
   },
   "outputs": [],
   "source": [
    "N = 23400\n",
    "subpaths_by_cls = [p[:N] for p in subpaths_by_cls]"
   ]
  },
  {
   "cell_type": "code",
   "execution_count": 27,
   "id": "691a0c49",
   "metadata": {
    "hidden": true
   },
   "outputs": [],
   "source": [
    "big12path = f\"{DS_DIR}/inrnet/big_12_extra.pkl\"\n",
    "pickle.dump(subpaths_by_cls, open(big12path, 'wb'))\n",
    "# subpaths_by_cls = pickle.load(open(big12path, 'rb'))"
   ]
  },
  {
   "cell_type": "code",
   "execution_count": null,
   "id": "fba01dc2",
   "metadata": {
    "hidden": true
   },
   "outputs": [],
   "source": [
    "paths = util.glob2('/data/vision/polina/scratch/clintonw/datasets/inrnet/cityscapes/train_*.pt')\n",
    "for p in paths:\n",
    "    weights, seg = torch.load(p)\n",
    "    break"
   ]
  },
  {
   "cell_type": "markdown",
   "id": "69cb82f2",
   "metadata": {},
   "source": [
    "# Tables"
   ]
  },
  {
   "cell_type": "markdown",
   "id": "21213782",
   "metadata": {},
   "source": [
    "### Classify"
   ]
  },
  {
   "cell_type": "code",
   "execution_count": 80,
   "id": "ea3fa479",
   "metadata": {
    "code_folding": []
   },
   "outputs": [
    {
     "name": "stdout",
     "output_type": "stream",
     "text": [
      "missing is_a2 results at /data/vision/polina/users/clintonw/code/diffcoord/results/is_a2/stats.pt\n",
      "missing is_nn2 results at /data/vision/polina/users/clintonw/code/diffcoord/results/is_nn2/stats.pt\n",
      "val set (SIRENs) & 54.0\\% & 55.0\\% & nan & nan \\\\\n"
     ]
    }
   ],
   "source": [
    "model_jobs = {\n",
    "#     '2-layer CNN':('i1x_nn2200', 'i2x_nn2200'),\n",
    "#     'Grid$\\\\to$Grid':('grid_to_grid',),\n",
    "#     'Grid$\\\\to$QMC':('grid_to_qmc',),\n",
    "#     'QMC$\\\\to$Grid':('qmc_to_grid',),\n",
    "#     'QMC$\\\\to$QMC':('qmc_to_rqmc',),\n",
    "#     'QMC$\\\\to$Shrunk':('qmc_to_hid',),\n",
    "#     'Shrunk$\\\\to$QMC':('hid_to_qmc',),\n",
    "#     'Shrunk$\\\\to$Shrunk':('hid_to_hid',),\n",
    "#     '2-layer CNN':('i1x_nn2', 'i2x_nn2'),\n",
    "#     '4-layer CNN':('i1x_nn5', 'i2x_nn5'),\n",
    "#     f'\\modelname-2 (ours)':('i1x_i2', 'i2x_i2'),\n",
    "#     f'\\modelname-5 (ours)':('i1x_i5', 'i2x_i5'),\n",
    "    \n",
    "    'val set (SIRENs)':('is_i2','is_w2','is_a2','is_nn2'),\n",
    "    \n",
    "#     f'\\modelname-w2 (ours)':('i1x_w2', 'i2x_w2'),\n",
    "#     f'\\modelname-w5 (ours)':('i1x_w5', 'i2x_w5'),\n",
    "    \n",
    "#     f'\\modelname-a2 (ours)':('i1x_a2', 'i2x_a2'),\n",
    "#     f'\\modelname-a5 (ours)':('i1x_a5', 'i2x_a5'),\n",
    "    \n",
    "#     '2-layer CNN1k':('i1x_nn21k', 'i2x_nn21k'),\n",
    "#     f'\\modelname-2 (ours)1k':('i1x_i21k', 'i2x_i21k'),\n",
    "#     '4-layer CNN1k':('i1x_nn51k', 'i2x_nn51k'),\n",
    "#     f'\\modelname-5 (ours)1k':('i1x_i51k', 'i2x_i51k'),\n",
    "    \n",
    "#     'EfficientNet \\cite{efficientnet}':('i1x_nn', 'i2x_nn'),\n",
    "#     'INR-ft (ours)':('i1x_inn', 'i2x_inn'),\n",
    "#     'INR-mlp (ours)':('i1x_mlp', 'i2x_mlp'),\n",
    "}\n",
    "N = 200*12\n",
    "for model,row in model_jobs.items():\n",
    "    rowstr = [model]\n",
    "    for job in row:\n",
    "        path = osp.join(RESULTS_DIR, job, \"stats.pt\")\n",
    "        if not osp.exists(path):\n",
    "            print(f'missing {job} results at {path}')\n",
    "            rowstr.append(\"nan\")\n",
    "        else:\n",
    "            top1, top3 = torch.load(path)\n",
    "            rowstr.append(util.format_float(top3/N*100, n_decimals=1)+r\"\\%\")\n",
    "    print(' & '.join(map(str,rowstr)) + r' \\\\')\n",
    "#     if model.endswith('ours)'):\n",
    "#         print(r'\\hline')"
   ]
  },
  {
   "cell_type": "code",
   "execution_count": null,
   "id": "a2929542",
   "metadata": {
    "code_folding": [
     0,
     5,
     10,
     16
    ]
   },
   "outputs": [],
   "source": [
    "jobs = [\"raw_m_rgae\", \"dit_m_rgae\", \"raw_m_caae\", \"dit_m_caae\",\n",
    "        \"raw_m_ipg\", \"dit_m_ipg\", \"raw_m_star\", \"dms_1\"]\n",
    "df = tables.get_results_table()\n",
    "subtable = df.loc[jobs]\n",
    "\n",
    "def latex_format(value, n_decimals=2, bold=False):\n",
    "    if bold:\n",
    "        return (r'$\\bm{{{0:.%df}}}$'%n_decimals).format(value)        \n",
    "    else:\n",
    "        return (r'${0:.%df}$'%n_decimals).format(value)\n",
    "def plus_minus_format(mean, std, n_decimals=2, bold=False):\n",
    "    if bold:\n",
    "        return (r'$\\bm{{{0:.%df}}}$\\scriptsize$\\bm{{\\pm {1:.%df}}}$'%(n_decimals, n_decimals)).format(mean, std)        \n",
    "    else:\n",
    "        return (r'${0:.%df}$\\scriptsize$\\pm {1:.%df}$'%(n_decimals, n_decimals)).format(mean, std)\n",
    "\n",
    "def print_row(name, row, bold=()):\n",
    "    field1 = latex_format(row[\"FID_tuned\"], bold=1 in bold)\n",
    "    field2 = latex_format(row[\"F_{1/8}\"], bold=2 in bold)\n",
    "    field3 = latex_format(row[\"F_8\"], bold=3 in bold)\n",
    "    field4 = plus_minus_format(row[\"age mean error\"], row[\"age error STD\"], bold=4 in bold)\n",
    "    print(\" & \".join([name, field1, field2, field3, field4]) + r\" \\\\\")"
   ]
  },
  {
   "cell_type": "markdown",
   "id": "6151b7c9",
   "metadata": {
    "heading_collapsed": true
   },
   "source": [
    "### Segment"
   ]
  },
  {
   "cell_type": "code",
   "execution_count": 75,
   "id": "422eae8d",
   "metadata": {
    "hidden": true
   },
   "outputs": [
    {
     "name": "stdout",
     "output_type": "stream",
     "text": [
      "ConvNexT & 0.429 & 68.1\\% \\\\\n",
      "INR-tuned & 0.376 & 68.7\\% \\\\\n"
     ]
    }
   ],
   "source": [
    "model_jobs = {\n",
    "#     'CNN-3':('scc_nn3c','scf_nn3',), #sff_nn3\n",
    "#     'INR-3 (ours)':('scc_i3c','scf_i3'),\n",
    "#     'CNN-5':('scc_nn5c','scf_nn5',),\n",
    "#     'INR-5 (ours)':('scc_i5c','scf_i5',),\n",
    "\n",
    "#     'Grid$\\\\to$QMC':['seg_g2q'],\n",
    "#     'Grid$\\\\to$Grid':['seg_g2g'],\n",
    "#     'QMC$\\\\to$Grid':['seg_q2g'],\n",
    "#     'QMC$\\\\to$QMC':['seg_q2q'],\n",
    "#     'Mask$\\\\to$Mask':['seg_m2m'],\n",
    "#     'Mask$\\\\to$QMC':['seg_m2q'],\n",
    "#     'Mask$\\\\to$Grid':['seg_m2g'],\n",
    "#     'QMC$\\\\to$Mask':['seg_q2m'],\n",
    "#     'Grid$\\\\to$Mask':['seg_g2m'],\n",
    "    \n",
    "    'ConvNexT':['sval_nn'],\n",
    "    'INR-tuned':['sval_cn'],#['sval_cn'],\n",
    "}\n",
    "for model,row in model_jobs.items():\n",
    "    rowstr = [model]\n",
    "    for job in row:\n",
    "        path = osp.join(RESULTS_DIR, job, \"stats.pt\")\n",
    "        if not osp.exists(path):\n",
    "            print(f'missing {job} results at {path}')\n",
    "            rowstr.append(\"nan\")\n",
    "        else:\n",
    "            iou, acc = torch.load(path)\n",
    "            rowstr.append(util.format_float(np.nanmean(iou), n_decimals=3))\n",
    "            rowstr.append(util.format_float(np.mean(acc)*100, n_decimals=1)+r\"\\%\")\n",
    "    print(' & '.join(map(str,rowstr)) + r' \\\\')\n",
    "#     if model.endswith('ours)'):\n",
    "#         print(r'\\hline')"
   ]
  },
  {
   "cell_type": "markdown",
   "id": "551200d6",
   "metadata": {
    "heading_collapsed": true
   },
   "source": [
    "### Generate"
   ]
  },
  {
   "cell_type": "code",
   "execution_count": null,
   "id": "c883c66d",
   "metadata": {
    "hidden": true
   },
   "outputs": [],
   "source": [
    "model_jobs = {'EffNet-T':('f1x_nn', 'f2x_nn', 'fhx_nn'),\n",
    "    'INR-tuned (ours)':('f1x_inn', 'f2x_inn', 'fhx_inn'),\n",
    "    'INR-scratch (ours)':('f1x_scr', 'f2x_scr', 'fhx_scr')}\n",
    "N = 200*12\n",
    "for model,row in model_jobs.items():\n",
    "    rowstr = [model]\n",
    "    for job in row:\n",
    "        path = osp.join(RESULTS_DIR, job, \"stats.pt\")\n",
    "        if not osp.exists(path):\n",
    "            print(f'missing {job} results at {path}')\n",
    "            rowstr.append(\"nan\")\n",
    "        else:\n",
    "            top1, top3 = torch.load(path)\n",
    "            rowstr.append(util.format_float(top3/N*100, n_decimals=1)+r\"\\%\")\n",
    "    print(' & '.join(map(str,rowstr)) + r' \\\\')"
   ]
  },
  {
   "cell_type": "code",
   "execution_count": null,
   "id": "f5695d4e",
   "metadata": {
    "hidden": true
   },
   "outputs": [],
   "source": []
  },
  {
   "cell_type": "markdown",
   "id": "68a2b3ce",
   "metadata": {},
   "source": [
    "# Figs"
   ]
  },
  {
   "cell_type": "markdown",
   "id": "6c29f095",
   "metadata": {
    "heading_collapsed": true
   },
   "source": [
    "## for framework"
   ]
  },
  {
   "cell_type": "code",
   "execution_count": 9,
   "id": "5e7c4c9d",
   "metadata": {
    "hidden": true
   },
   "outputs": [],
   "source": [
    "from scipy.stats import qmc as sqmc"
   ]
  },
  {
   "cell_type": "code",
   "execution_count": null,
   "id": "3964c11b",
   "metadata": {
    "hidden": true
   },
   "outputs": [],
   "source": [
    "sampler = sqmc.Sobol(d=2, scramble=True)\n",
    "xy = sampler.random_base2(m=int(math.log2(256)))\n",
    "plt.rcParams[\"figure.figsize\"] = (1,1)\n",
    "fig,ax = plt.subplots()\n",
    "ax.scatter(xy[:,0], xy[:,1], s=2, c='k')\n",
    "ax.plot();\n",
    "plt.xlim(0,1)\n",
    "plt.ylim(0,1)\n",
    "plt.xticks([])\n",
    "plt.yticks([]);"
   ]
  },
  {
   "cell_type": "code",
   "execution_count": 48,
   "id": "74ffc6e3",
   "metadata": {
    "hidden": true
   },
   "outputs": [
    {
     "data": {
      "image/png": "[encoded data removed]",
      "text/plain": [
       "<Figure size 200x200 with 1 Axes>"
      ]
     },
     "metadata": {},
     "output_type": "display_data"
    }
   ],
   "source": [
    "sampler = sqmc.Halton(d=2, scramble=True)\n",
    "xy = sampler.random(n=256)\n",
    "plt.rcParams[\"figure.figsize\"] = (1,1)\n",
    "fig,ax = plt.subplots()\n",
    "ax.scatter(xy[:,0], xy[:,1], s=2, c='k')\n",
    "ax.plot();\n",
    "plt.xlim(0,1)\n",
    "plt.ylim(0,1)\n",
    "plt.xticks([])\n",
    "plt.yticks([]);"
   ]
  },
  {
   "cell_type": "code",
   "execution_count": 44,
   "id": "9c1d065a",
   "metadata": {
    "hidden": true,
    "scrolled": true
   },
   "outputs": [
    {
     "data": {
      "image/png": "[encoded data removed]",
      "text/plain": [
       "<Figure size 200x200 with 1 Axes>"
      ]
     },
     "metadata": {},
     "output_type": "display_data"
    }
   ],
   "source": [
    "xy = np.stack(np.meshgrid(np.linspace(.01, .99, 16), np.linspace(.01, .99, 16))).transpose().reshape(-1,2)\n",
    "plt.rcParams[\"figure.figsize\"] = (1,1)\n",
    "fig,ax = plt.subplots()\n",
    "ax.scatter(xy[:,0], xy[:,1], s=2, c='k')\n",
    "ax.plot();\n",
    "plt.xlim(0,1)\n",
    "plt.ylim(0,1)\n",
    "plt.xticks([])\n",
    "plt.yticks([]);"
   ]
  },
  {
   "cell_type": "code",
   "execution_count": 45,
   "id": "e56da18c",
   "metadata": {
    "hidden": true
   },
   "outputs": [
    {
     "data": {
      "image/png": "[encoded data removed]",
      "text/plain": [
       "<Figure size 200x200 with 1 Axes>"
      ]
     },
     "metadata": {},
     "output_type": "display_data"
    }
   ],
   "source": [
    "xy = np.random.rand(256,2)\n",
    "plt.rcParams[\"figure.figsize\"] = (1,1)\n",
    "fig,ax = plt.subplots()\n",
    "ax.scatter(xy[:,0], xy[:,1], s=2, c='k')\n",
    "ax.plot();\n",
    "plt.xlim(0,1)\n",
    "plt.ylim(0,1)\n",
    "plt.xticks([])\n",
    "plt.yticks([]);"
   ]
  },
  {
   "cell_type": "code",
   "execution_count": null,
   "id": "8921b500",
   "metadata": {
    "hidden": true
   },
   "outputs": [],
   "source": [
    "xy = qmc.generate_quasirandom_sequence(d=2, n=256, scramble=True)\n",
    "plt.rcParams[\"figure.figsize\"] = (1,1)\n",
    "fig,ax = plt.subplots()\n",
    "ax.scatter(xy[:,0], xy[:,1], s=2, c='k')\n",
    "ax.plot();"
   ]
  },
  {
   "cell_type": "markdown",
   "id": "6189d309",
   "metadata": {
    "hidden": true
   },
   "source": [
    "coords = gen_inr.parent(10).sampled_coords\n",
    "fig,ax = plt.subplots()\n",
    "ax.scatter(coords[:,0].cpu().numpy(), coords[:,1].cpu().numpy(), s=2, c='k')\n",
    "ax.plot();\n",
    "path = paths[\"job output dir\"]+f\"/imgs/{global_step}.png\"\n",
    "plt.savefig(path)"
   ]
  },
  {
   "cell_type": "code",
   "execution_count": null,
   "id": "10d1ae35",
   "metadata": {
    "hidden": true
   },
   "outputs": [],
   "source": [
    "kernel = model.features[0][0].weight[3,1].detach()\n",
    "plt.rcParams[\"figure.figsize\"] = (.5,.5)\n",
    "fig,ax = plt.subplots()\n",
    "print(kernel.min().item(), kernel.max().item())\n",
    "ax.imshow(kernel, vmin=-2.9, vmax=2.9);\n",
    "plt.axis('off');"
   ]
  },
  {
   "cell_type": "code",
   "execution_count": 100,
   "id": "fb67f524",
   "metadata": {
    "hidden": true
   },
   "outputs": [],
   "source": [
    "from scipy.interpolate import RectBivariateSpline as Spline2D\n",
    "K = [2.5,2.5]\n",
    "h,w=3,3\n",
    "bbox = (-K[0]/2, K[0]/2, -K[1]/2, K[1]/2)\n",
    "x,y = (np.linspace(bbox[0]/h*(h-1), bbox[1]/h*(h-1), h),\n",
    "       np.linspace(bbox[2]/w*(w-1), bbox[3]/w*(w-1), w))\n",
    "bs = Spline2D(x,y, kernel, bbox=bbox, kx=2,ky=2, s=0)\n",
    "tx,ty,c = [torch.tensor(z).float() for z in bs.tck]\n",
    "c = c.reshape(h,w)"
   ]
  },
  {
   "cell_type": "code",
   "execution_count": 106,
   "id": "f39f39d0",
   "metadata": {
    "hidden": true
   },
   "outputs": [],
   "source": [
    "H = 50\n",
    "xy = util.meshgrid_coords(H,H).cpu()\n",
    "w_oi = []\n",
    "X = xy[:,0].unsqueeze(1)\n",
    "Y = xy[:,1].unsqueeze(1)\n",
    "px = py = 2\n",
    "\n",
    "values, kx = (tx<=X).min(dim=-1)\n",
    "values, ky = (ty<=Y).min(dim=-1)\n",
    "kx -= 1\n",
    "ky -= 1\n",
    "kx[values] = tx.size(-1)-px-2\n",
    "ky[values] = ty.size(-1)-py-2\n",
    "\n",
    "Ctrl = c.view(1, *c.shape[-2:])\n",
    "for z in range(X.size(0)):\n",
    "    D = Ctrl[:, kx[z]-px : kx[z]+1, ky[z]-py : ky[z]+1].clone()\n",
    "\n",
    "    for r in range(1, px + 1):\n",
    "        try:\n",
    "            alphax = (X[z,0] - tx[kx[z]-px+1:kx[z]+1]) / (\n",
    "                tx[2+kx[z]-r:2+kx[z]-r+px] - tx[kx[z]-px+1:kx[z]+1])\n",
    "        except RuntimeError:\n",
    "            print(\"input off the grid\")\n",
    "        for j in range(px, r - 1, -1):\n",
    "            D[:,j] = (1-alphax[j-1]) * D[:,j-1] + alphax[j-1] * D[:,j].clone()\n",
    "\n",
    "    for r in range(1, py + 1):\n",
    "        alphay = (Y[z,0] - ty[ky[z]-py+1:ky[z]+1]) / (\n",
    "            ty[2+ky[z]-r:2+ky[z]-r+py] - ty[ky[z]-py+1:ky[z]+1])\n",
    "        for j in range(py, r-1, -1):\n",
    "            D[:,px,j] = (1-alphay[j-1]) * D[:,px,j-1].clone() + alphay[j-1] * D[:,px,j].clone()\n",
    "\n",
    "    w_oi.append(D[:,px,py])\n",
    "\n",
    "w = torch.stack(w_oi).view(xy.size(0))"
   ]
  },
  {
   "cell_type": "code",
   "execution_count": 107,
   "id": "1cc8ca3d",
   "metadata": {
    "hidden": true
   },
   "outputs": [],
   "source": [
    "k = w.reshape(H,H)"
   ]
  },
  {
   "cell_type": "code",
   "execution_count": null,
   "id": "8961df22",
   "metadata": {
    "hidden": true
   },
   "outputs": [],
   "source": [
    "fig,ax = plt.subplots()\n",
    "print(k.min().item(), k.max().item())\n",
    "ax.imshow(k, vmin=-2.9, vmax=2.9);\n",
    "plt.axis('off');"
   ]
  },
  {
   "cell_type": "code",
   "execution_count": null,
   "id": "de4ba2b8",
   "metadata": {
    "hidden": true
   },
   "outputs": [],
   "source": []
  },
  {
   "cell_type": "markdown",
   "id": "aed6db6b",
   "metadata": {
    "heading_collapsed": true
   },
   "source": [
    "## analysis"
   ]
  },
  {
   "cell_type": "code",
   "execution_count": null,
   "id": "56f2e298",
   "metadata": {
    "hidden": true
   },
   "outputs": [],
   "source": [
    "from inrnet.experiments import classify\n",
    "classify.analyze_change_resolution_grid_vs_qmc()"
   ]
  },
  {
   "cell_type": "code",
   "execution_count": null,
   "id": "c2fe1c43",
   "metadata": {
    "hidden": true
   },
   "outputs": [],
   "source": [
    "ax = sns.lineplot(x=torch.linspace(128,256,10), y=torch.linspace(.5,.8,10)+torch.randn(10)/8, label=\"qmc\");\n",
    "sns.lineplot(x=torch.linspace(128,256,10), y=torch.linspace(.1,.8,10)+torch.randn(10)/8, label=\"grid\", ax=ax);\n",
    "ax.set_xlabel(\"Number of sample points\");\n",
    "ax.set_ylabel(\"ImageNet top-1 error\");"
   ]
  },
  {
   "cell_type": "markdown",
   "id": "914dd458",
   "metadata": {
    "hidden": true
   },
   "source": [
    "### Deviation over depth"
   ]
  },
  {
   "cell_type": "markdown",
   "id": "d8e9987b",
   "metadata": {
    "hidden": true
   },
   "source": [
    "### Resolution vs. output (grid & QMC)"
   ]
  },
  {
   "cell_type": "code",
   "execution_count": 42,
   "id": "7a0b2ec8",
   "metadata": {
    "hidden": true
   },
   "outputs": [],
   "source": [
    "base_logits, grid_logits, grid_masks, qmc_logits, qmc_masks = torch.load(osp.expanduser(\n",
    "    '~/code/diffcoord/temp/change_resolution_grid_vs_qmc.pt'))"
   ]
  },
  {
   "cell_type": "code",
   "execution_count": 43,
   "id": "1700eb06",
   "metadata": {
    "hidden": true
   },
   "outputs": [],
   "source": [
    "grid_dists = (torch.cat(grid_logits, dim=0) - base_logits.cpu()).norm(dim=-1)\n",
    "qmc_dists = (torch.cat(qmc_logits, dim=0) - base_logits.cpu()).norm(dim=-1)"
   ]
  },
  {
   "cell_type": "code",
   "execution_count": 46,
   "id": "0710271d",
   "metadata": {
    "hidden": true
   },
   "outputs": [],
   "source": [
    "RES = np.round(np.logspace(4, 8, num=9, base=2)).astype(int)"
   ]
  },
  {
   "cell_type": "code",
   "execution_count": null,
   "id": "5ae34d28",
   "metadata": {
    "hidden": true
   },
   "outputs": [],
   "source": [
    "plt.rcParams[\"figure.figsize\"] = (2.0, 1.5)\n",
    "x = np.arange(7)\n",
    "plt.plot(x,qmc_dists[1:], label='qmc');\n",
    "plt.plot(x,grid_dists[1:], label='grid');\n",
    "plt.xticks(ticks=[1,3,5],labels=(32,64,128))\n",
    "plt.yticks([]);\n",
    "# plt.legend()"
   ]
  },
  {
   "cell_type": "code",
   "execution_count": null,
   "id": "22a60e55",
   "metadata": {
    "hidden": true
   },
   "outputs": [],
   "source": [
    "grid_dists"
   ]
  },
  {
   "cell_type": "code",
   "execution_count": null,
   "id": "ec1b48a7",
   "metadata": {
    "hidden": true
   },
   "outputs": [],
   "source": [
    "torch.sort(base_logits[0]).indices"
   ]
  },
  {
   "cell_type": "code",
   "execution_count": null,
   "id": "74736508",
   "metadata": {
    "hidden": true
   },
   "outputs": [],
   "source": [
    "torch.sort(qmc_logits[-1][0]).indices"
   ]
  },
  {
   "cell_type": "code",
   "execution_count": null,
   "id": "5170b724",
   "metadata": {
    "hidden": true
   },
   "outputs": [],
   "source": [
    "plt.bar(grid_dists)"
   ]
  },
  {
   "cell_type": "code",
   "execution_count": 208,
   "id": "5b164d3f",
   "metadata": {
    "hidden": true
   },
   "outputs": [],
   "source": [
    "front_g_m = torch.stack([m[0].float().mean() for m in grid_masks], dim=0)\n",
    "front_g_s = torch.stack([m[0].float().std() for m in grid_masks], dim=0)\n",
    "back_g_m = torch.stack([m[1].float().mean() for m in grid_masks], dim=0)\n",
    "back_g_s = torch.stack([m[1].float().std() for m in grid_masks], dim=0)"
   ]
  },
  {
   "cell_type": "code",
   "execution_count": null,
   "id": "1a5565c9",
   "metadata": {
    "hidden": true
   },
   "outputs": [],
   "source": [
    "front_g_m, front_g_s"
   ]
  },
  {
   "cell_type": "code",
   "execution_count": null,
   "id": "928d7de4",
   "metadata": {
    "hidden": true
   },
   "outputs": [],
   "source": [
    "back_g_m, back_g_s"
   ]
  },
  {
   "cell_type": "code",
   "execution_count": 185,
   "id": "e2170c8a",
   "metadata": {
    "hidden": true
   },
   "outputs": [],
   "source": [
    "front_q_m = torch.stack([m[0].float().mean() for m in qmc_masks], dim=0)\n",
    "front_q_s = torch.stack([m[0].float().std() for m in qmc_masks], dim=0)\n",
    "back_q_m = torch.stack([m[1].float().mean() for m in qmc_masks], dim=0)\n",
    "back_q_s = torch.stack([m[1].float().std() for m in qmc_masks], dim=0)"
   ]
  },
  {
   "cell_type": "code",
   "execution_count": null,
   "id": "3da5716a",
   "metadata": {
    "hidden": true
   },
   "outputs": [],
   "source": [
    "front_q_m, front_q_s"
   ]
  },
  {
   "cell_type": "code",
   "execution_count": null,
   "id": "fdc24e3e",
   "metadata": {
    "hidden": true
   },
   "outputs": [],
   "source": [
    "back_q_m, back_q_s"
   ]
  },
  {
   "cell_type": "markdown",
   "id": "77dc80d8",
   "metadata": {
    "hidden": true
   },
   "source": [
    "### RQMC variance"
   ]
  },
  {
   "cell_type": "code",
   "execution_count": 37,
   "id": "743bde36",
   "metadata": {
    "hidden": true
   },
   "outputs": [],
   "source": [
    "base_logits, logits, masks = torch.load(osp.expanduser('~/code/diffcoord/temp/output_variance_rqmc.pt'))"
   ]
  },
  {
   "cell_type": "code",
   "execution_count": 38,
   "id": "23a1681d",
   "metadata": {
    "hidden": true
   },
   "outputs": [],
   "source": [
    "logit_dists = (torch.cat(logits, dim=0) - base_logits.cpu()).norm(dim=-1)"
   ]
  },
  {
   "cell_type": "code",
   "execution_count": null,
   "id": "3a317623",
   "metadata": {
    "hidden": true
   },
   "outputs": [],
   "source": [
    "base_logits"
   ]
  },
  {
   "cell_type": "code",
   "execution_count": null,
   "id": "c157d50b",
   "metadata": {
    "hidden": true
   },
   "outputs": [],
   "source": [
    "logit_dists"
   ]
  },
  {
   "cell_type": "code",
   "execution_count": null,
   "id": "619a0777",
   "metadata": {
    "hidden": true
   },
   "outputs": [],
   "source": [
    "fronts = torch.stack([m[0] for m in masks], dim=0).float()\n",
    "backs = torch.stack([m[1] for m in masks], dim=0).float()"
   ]
  },
  {
   "cell_type": "code",
   "execution_count": null,
   "id": "970243e7",
   "metadata": {
    "hidden": true
   },
   "outputs": [],
   "source": [
    "fronts.mean(1), fronts.std(1), fronts.amin(1), fronts.amax(1)"
   ]
  },
  {
   "cell_type": "code",
   "execution_count": null,
   "id": "46c1cad2",
   "metadata": {
    "hidden": true
   },
   "outputs": [],
   "source": [
    "backs.mean(1), backs.std(1), backs.amin(1), backs.amax(1)"
   ]
  },
  {
   "cell_type": "code",
   "execution_count": null,
   "id": "d28a86d9",
   "metadata": {
    "hidden": true
   },
   "outputs": [],
   "source": []
  },
  {
   "cell_type": "markdown",
   "id": "6a6da528",
   "metadata": {
    "heading_collapsed": true,
    "hidden": true
   },
   "source": [
    "### grid-QMC interpolation"
   ]
  },
  {
   "cell_type": "code",
   "execution_count": null,
   "id": "719dc546",
   "metadata": {
    "hidden": true
   },
   "outputs": [],
   "source": [
    "base_logits, grid_logits, grid_mask, qmc_logits, qmc_mask, intermediate_logits, intermediate_masks = torch.load(osp.expanduser('~/code/diffcoord/temp/analyze_logit_mismatch.pt'))\n",
    "\n",
    "x = np.arange(0,1.01,.05)\n",
    "fronts = torch.stack([grid_mask[0], *[m[0] for m in intermediate_masks[::-1]], qmc_mask[0]], dim=0).float()\n",
    "backs = torch.stack([grid_mask[1], *[m[1] for m in intermediate_masks[::-1]], qmc_mask[1]], dim=0).float()\n",
    "f_m, f_s = fronts.mean(1), fronts.std(1)\n",
    "b_m, b_s = backs.mean(1), backs.std(1)\n",
    "\n",
    "fig,ax = plt.subplots()\n",
    "width = .007\n",
    "ax.errorbar(x-width/2, f_m, yerr=f_s, label='front')\n",
    "ax.errorbar(x+width/2, b_m, yerr=b_s, label='back')"
   ]
  },
  {
   "cell_type": "code",
   "execution_count": 211,
   "id": "e8cf6d9e",
   "metadata": {
    "hidden": true,
    "scrolled": true
   },
   "outputs": [
    {
     "data": {
      "image/png": "[encoded data removed]",
      "text/plain": [
       "<Figure size 200x200 with 1 Axes>"
      ]
     },
     "metadata": {
      "needs_background": "light"
     },
     "output_type": "display_data"
    }
   ],
   "source": [
    "y = (torch.cat([grid_logits, *intermediate_logits[::-1], qmc_logits], dim=0) - base_logits.cpu()).norm(dim=1)\n",
    "plt.plot(x,y);\n",
    "plt.xticks(ticks=[0,1],labels=('',''))\n",
    "plt.yticks([]);"
   ]
  },
  {
   "cell_type": "markdown",
   "id": "29d940a7",
   "metadata": {
    "heading_collapsed": true
   },
   "source": [
    "# slurm"
   ]
  },
  {
   "cell_type": "code",
   "execution_count": 45,
   "id": "6bda67bc",
   "metadata": {
    "hidden": true
   },
   "outputs": [],
   "source": [
    "coco_len = 118287\n",
    "kitti_len = 80896\n",
    "horse_len = 1067\n",
    "zebra_len = 1334\n",
    "inet_len = 50000\n",
    "in_tr_len = 50000"
   ]
  },
  {
   "cell_type": "code",
   "execution_count": null,
   "id": "dd34845a",
   "metadata": {
    "hidden": true
   },
   "outputs": [],
   "source": [
    "configs/convnext/upernet_convnext_tiny\n",
    "configs/_base_/models/upernet_convnext.py"
   ]
  },
  {
   "cell_type": "code",
   "execution_count": null,
   "id": "e54b6c75",
   "metadata": {
    "hidden": true
   },
   "outputs": [],
   "source": [
    "for ix in range(0,places_len,800):\n",
    "    if not osp.exists(f\"/data/vision/polina/scratch/clintonw/datasets/inrnet/places/siren_{ix+63}.pt\"):\n",
    "        print(\"sh fit_inr.sh\", f\"place{ix//800}\", \"fit_places\", ix)"
   ]
  },
  {
   "cell_type": "code",
   "execution_count": null,
   "id": "9ae78790",
   "metadata": {
    "hidden": true
   },
   "outputs": [],
   "source": [
    "for ix in range(0,in_tr_len,800):\n",
    "    if not osp.exists(f\"/data/vision/polina/scratch/clintonw/datasets/inrnet/imagenet1k_train/siren_{ix+63}.pt\"):\n",
    "        print(\"sh fit_inr.sh\", f\"inet{ix//800}\", \"fit_in_tr\", ix)"
   ]
  },
  {
   "cell_type": "code",
   "execution_count": null,
   "id": "9acfddc6",
   "metadata": {
    "hidden": true
   },
   "outputs": [],
   "source": [
    "for ix in range(0,60000,5000):\n",
    "    if not osp.exists(f\"/data/vision/polina/scratch/clintonw/datasets/inrnet/fmnist/train_{ix+1}.pt\"):\n",
    "        print(\"sh fit_inr.sh\", f\"fmn{ix//5000}\", \"fit_fmnist\", ix)"
   ]
  },
  {
   "cell_type": "code",
   "execution_count": null,
   "id": "1f5b53ce",
   "metadata": {
    "code_folding": [],
    "hidden": true
   },
   "outputs": [],
   "source": [
    "for ix in range(0,12000,100):\n",
    "    c,i=ix//1000, ix%1000\n",
    "    if i >= 800:\n",
    "        i-=800\n",
    "        s='val'\n",
    "    else:\n",
    "        s='train'\n",
    "    if not osp.exists(f\"/data/vision/polina/scratch/clintonw/datasets/inrnet/inet12/{c}/{s}_{i+3}.pt\"):\n",
    "        print(\"sh fit_inr.sh\", f\"inet{ix//100}\", \"fit_i12\", ix)"
   ]
  },
  {
   "cell_type": "code",
   "execution_count": 35,
   "id": "3064a197",
   "metadata": {
    "hidden": true
   },
   "outputs": [],
   "source": [
    "for ix in range(0,2400,50):\n",
    "    c,i = ix%12, ix//12\n",
    "    if not osp.exists(f\"/data/vision/polina/scratch/clintonw/datasets/inrnet/inet12/{c}/test_{i+1}.pt\"):\n",
    "        print(\"sh fit_inr.sh\", f\"rff{ix//50}\", \"fit_in_rff\", ix)"
   ]
  },
  {
   "cell_type": "code",
   "execution_count": null,
   "id": "4595185c",
   "metadata": {
    "hidden": true
   },
   "outputs": [],
   "source": [
    "#23400 * 12 = 280800 total images\n",
    "#15000/12 + 800 = 2050 current images per class\n",
    "for ix in range(36000,48000,100):\n",
    "    cls, start_ix = ix % 12, ix // 12 + 800\n",
    "    if not osp.exists(f\"/data/vision/polina/scratch/clintonw/datasets/inrnet/inet12/{cls}/train_{start_ix+4}.pt\"):\n",
    "        print(\"sh fit_inr.sh\", f\"inet{ix//100}\", \"fit_i12\", ix)"
   ]
  },
  {
   "cell_type": "code",
   "execution_count": null,
   "id": "fe84027d",
   "metadata": {
    "code_folding": [
     0
    ],
    "hidden": true
   },
   "outputs": [],
   "source": [
    "for ix in range(0,8189,100):\n",
    "    i = ix\n",
    "    if i < 1020:\n",
    "        s='train'\n",
    "    elif i < 2040:\n",
    "        s='val'\n",
    "        i -= 1020\n",
    "    else:\n",
    "        s='test'\n",
    "        i -= 2040\n",
    "    if not osp.exists(f\"/data/vision/polina/scratch/clintonw/datasets/inrnet/flowers/{s}_{i+50}.pt\"):\n",
    "        print(\"sh fit_inr.sh\", f\"flow{ix//100}\", \"fit_flower\", ix)"
   ]
  },
  {
   "cell_type": "code",
   "execution_count": null,
   "id": "7215c526",
   "metadata": {
    "hidden": true
   },
   "outputs": [],
   "source": [
    "for ix in range(3475,4475,100):\n",
    "    i = ix\n",
    "    if i >= 2975:\n",
    "        i -= 2975\n",
    "        s = 'val'\n",
    "    else:\n",
    "        s = 'train'\n",
    "        i -= 500\n",
    "    if not osp.exists(f\"/data/vision/polina/scratch/clintonw/datasets/inrnet/cityscapes/{s}_{i+1}.pt\"):\n",
    "        print(\"sh fit_inr.sh\", f\"city{ix//100}\", \"fit_city\", ix)"
   ]
  },
  {
   "cell_type": "code",
   "execution_count": 46,
   "id": "13166e6f",
   "metadata": {
    "hidden": true
   },
   "outputs": [],
   "source": [
    "for ix in range(0,inet_len,800):\n",
    "    if not osp.exists(f\"/data/vision/polina/scratch/clintonw/datasets/inrnet/imagenet1k_val/siren_{ix+63}.pt\"):\n",
    "        print(\"sh fit_inr.sh\", f\"inet{ix//800}\", \"fit_inet\", ix)"
   ]
  },
  {
   "cell_type": "code",
   "execution_count": 37,
   "id": "faec908c",
   "metadata": {
    "hidden": true
   },
   "outputs": [],
   "source": [
    "x[0,0] = 1"
   ]
  },
  {
   "cell_type": "code",
   "execution_count": null,
   "id": "73b6b92f",
   "metadata": {
    "code_folding": [
     0
    ],
    "hidden": true
   },
   "outputs": [],
   "source": [
    "for ix in range(0,coco_len,1600):\n",
    "    if not osp.exists(f\"/data/vision/polina/scratch/clintonw/datasets/inrnet/coco/siren_{ix+63}.pt\"):\n",
    "        print(\"sh fit_inr.sh\", f\"coco{ix//1600}\", \"fit_coco\", ix)"
   ]
  },
  {
   "cell_type": "code",
   "execution_count": null,
   "id": "00b852ca",
   "metadata": {
    "hidden": true
   },
   "outputs": [],
   "source": [
    "for ix in range(0,kitti_len,800):\n",
    "    if not osp.exists(f\"/data/vision/polina/scratch/clintonw/datasets/inrnet/kitti/siren_{ix+63}.pt\"):\n",
    "        print(\"sh fit_inr.sh\", f\"skit{ix//800}\", \"fit_kitti\", ix)"
   ]
  },
  {
   "cell_type": "code",
   "execution_count": null,
   "id": "1bc286a5",
   "metadata": {
    "hidden": true
   },
   "outputs": [],
   "source": [
    "for ix in range(0,zebra_len,128):\n",
    "    if not osp.exists(f\"/data/vision/polina/scratch/clintonw/datasets/inrnet/zebra/siren_{ix+15}.pt\"):\n",
    "        print(\"sh fit_inr.sh\", f\"zebra{ix//128}\", \"fit_zebra\", ix)"
   ]
  },
  {
   "cell_type": "code",
   "execution_count": null,
   "id": "004877cd",
   "metadata": {
    "hidden": true
   },
   "outputs": [],
   "source": [
    "for ix in range(0,horse_len,128):\n",
    "    if not osp.exists(f\"/data/vision/polina/scratch/clintonw/datasets/inrnet/horse/siren_{ix+15}.pt\"):\n",
    "        print(\"sh fit_inr.sh\", f\"horse{ix//128}\", \"fit_horse\", ix)"
   ]
  },
  {
   "cell_type": "code",
   "execution_count": null,
   "id": "ef320b86",
   "metadata": {
    "hidden": true
   },
   "outputs": [],
   "source": [
    "for ix in range(0,10000,5000):\n",
    "    if not osp.exists(f\"/data/vision/polina/scratch/clintonw/datasets/inrnet/cifar10_test/siren_{ix+999}.pt\"):\n",
    "        print(\"sh fit_inr.sh\", f\"cit{ix//5000}\", \"fit_ciftest\", ix)\n",
    "for ix in range(0,50000,5000):\n",
    "    if not osp.exists(f\"/data/vision/polina/scratch/clintonw/datasets/inrnet/cifar10_train/siren_{ix+999}.pt\"):\n",
    "        print(\"sh fit_inr.sh\", f\"cif{ix//5000}\", \"fit_cifar\", ix)"
   ]
  },
  {
   "cell_type": "code",
   "execution_count": null,
   "id": "dfc4a6a4",
   "metadata": {
    "hidden": true
   },
   "outputs": [],
   "source": [
    "img = plt.imread(\"/data/vision/polina/scratch/clintonw/datasets/inrnet/horse2zebra/testA/n02381460_9260.jpg\")"
   ]
  },
  {
   "cell_type": "code",
   "execution_count": null,
   "id": "f6392169",
   "metadata": {
    "hidden": true
   },
   "outputs": [],
   "source": [
    "\"/data/vision/polina/scratch/clintonw/datasets/coco/annotations/panoptic_train2017\""
   ]
  },
  {
   "cell_type": "code",
   "execution_count": null,
   "id": "26693f19",
   "metadata": {
    "hidden": true
   },
   "outputs": [],
   "source": [
    "osp.exists(f\"/data/vision/polina/users/clintonw/code/diffcoord/temp/kitti/siren_{ix+63}.pt\")"
   ]
  },
  {
   "cell_type": "code",
   "execution_count": 60,
   "id": "201b45c6",
   "metadata": {
    "hidden": true
   },
   "outputs": [],
   "source": [
    "paths = util.glob2(\"/data/vision/polina/scratch/clintonw/datasets/inrnet/inet12/1/loss_*\")"
   ]
  },
  {
   "cell_type": "code",
   "execution_count": 21,
   "id": "ed86d162",
   "metadata": {
    "hidden": true
   },
   "outputs": [],
   "source": [
    "paths = util.glob2(\"/data/vision/polina/scratch/clintonw/datasets/inrnet/inet12/0/loss_train_*\")\n",
    "losses = []\n",
    "for p in paths:\n",
    "    losses.append(float((open(p,'r').read())))"
   ]
  },
  {
   "cell_type": "code",
   "execution_count": 17,
   "id": "9ecc1d40",
   "metadata": {
    "hidden": true
   },
   "outputs": [],
   "source": [
    "paths = [f\"/data/vision/polina/scratch/clintonw/datasets/inrnet/inet12/0/loss_test_{ix}.txt\" for ix in range(800)]\n",
    "losses = []\n",
    "for p in paths:\n",
    "    losses.append(float((open(p,'r').read())))"
   ]
  },
  {
   "cell_type": "code",
   "execution_count": 28,
   "id": "aee1fed6",
   "metadata": {
    "hidden": true
   },
   "outputs": [],
   "source": [
    "paths = [f\"/data/vision/polina/scratch/clintonw/datasets/inrnet/cityscapes/loss_train_{ix}.txt\" for ix in range(800)]\n",
    "losses = []\n",
    "for p in paths:\n",
    "    losses.append(float((open(p,'r').read())))"
   ]
  },
  {
   "cell_type": "code",
   "execution_count": 32,
   "id": "6b39eaa9",
   "metadata": {
    "hidden": true
   },
   "outputs": [
    {
     "data": {
      "text/plain": [
       "3.642220564870513"
      ]
     },
     "execution_count": 32,
     "metadata": {},
     "output_type": "execute_result"
    }
   ],
   "source": [
    "np.mean(losses)*1e4"
   ]
  },
  {
   "cell_type": "code",
   "execution_count": null,
   "id": "13df9373",
   "metadata": {
    "hidden": true
   },
   "outputs": [],
   "source": []
  }
 ],
 "metadata": {
  "kernelspec": {
   "display_name": "Python 3 (ipykernel)",
   "language": "python",
   "name": "python3"
  },
  "language_info": {
   "codemirror_mode": {
    "name": "ipython",
    "version": 3
   },
   "file_extension": ".py",
   "mimetype": "text/x-python",
   "name": "python",
   "nbconvert_exporter": "python",
   "pygments_lexer": "ipython3",
   "version": "3.10.3"
  }
 },
 "nbformat": 4,
 "nbformat_minor": 5
}

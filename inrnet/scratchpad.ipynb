{
 "cells": [
  {
   "cell_type": "code",
   "execution_count": 1,
   "id": "cfae1a8b",
   "metadata": {},
   "outputs": [],
   "source": [
    "import os, shutil, itertools, yaml, kornia, torchvision, sys, copy, math\n",
    "from functools import partial\n",
    "import dill as pickle\n",
    "from importlib import reload\n",
    "osp = os.path\n",
    "import numpy as np\n",
    "import matplotlib.pyplot as plt\n",
    "from torchvision import transforms\n",
    "import torch\n",
    "nn = torch.nn\n",
    "F = nn.functional\n",
    "import monai.transforms as mtr"
   ]
  },
  {
   "cell_type": "code",
   "execution_count": 2,
   "id": "e8944308",
   "metadata": {},
   "outputs": [],
   "source": [
    "from inrnet import args as args_module\n",
    "from inrnet import jobs as job_mgmt\n",
    "from inrnet import optim, util, losses\n",
    "from inrnet.data import dataloader, kitti\n",
    "from inrnet.experiments import depth\n",
    "from inrnet import inn\n",
    "import inrnet.inn.functional as inrF\n",
    "%matplotlib inline\n",
    "plt.rcParams[\"figure.figsize\"] = (4.0, 3.0)\n",
    "plt.rcParams['figure.dpi'] = 200\n",
    "\n",
    "rescale_clip = mtr.ScaleIntensityRangePercentiles(lower=1, upper=99, b_min=0, b_max=255, clip=True, dtype=np.uint8)\n",
    "rescale_noclip = mtr.ScaleIntensityRangePercentiles(lower=0, upper=100, b_min=0, b_max=255, clip=False, dtype=np.uint8)\n",
    "rescale_float = mtr.ScaleIntensity()\n",
    "\n",
    "TMP_DIR=osp.expanduser(\"~/code/diffcoord/temp\")"
   ]
  },
  {
   "cell_type": "markdown",
   "id": "289b2ca0",
   "metadata": {},
   "source": [
    "rsync -av --ignore-existing \\\n",
    "clintonw@peppercorn.csail.mit.edu:/data/vision/polina/users/clintonw/code/placenta/results/unetr_00 Downloads/"
   ]
  },
  {
   "cell_type": "markdown",
   "id": "ffbadd6f",
   "metadata": {},
   "source": [
    "## interactive"
   ]
  },
  {
   "cell_type": "code",
   "execution_count": 40,
   "id": "8d5e6f33",
   "metadata": {},
   "outputs": [
    {
     "data": {
      "text/plain": [
       "torch.Size([3, 4, 5, 2])"
      ]
     },
     "execution_count": 40,
     "metadata": {},
     "output_type": "execute_result"
    }
   ],
   "source": [
    "torch.randn(3,4,5).unsqueeze(-1).tile(2).shape"
   ]
  },
  {
   "cell_type": "code",
   "execution_count": 33,
   "id": "a52b4c23",
   "metadata": {},
   "outputs": [],
   "source": [
    "model = torchvision.models.vgg11(pretrained=True)"
   ]
  },
  {
   "cell_type": "code",
   "execution_count": 88,
   "id": "6156b366",
   "metadata": {},
   "outputs": [],
   "source": [
    "tx = torch.linspace(0,1,11)\n",
    "X = torch.rand(7)*1.1\n",
    "X = X.unsqueeze(1)"
   ]
  },
  {
   "cell_type": "code",
   "execution_count": 92,
   "id": "27214c4e",
   "metadata": {},
   "outputs": [
    {
     "data": {
      "text/plain": [
       "0"
      ]
     },
     "execution_count": 92,
     "metadata": {},
     "output_type": "execute_result"
    }
   ],
   "source": [
    "(tx>X[0,0]).nonzero()[0].item()-1"
   ]
  },
  {
   "cell_type": "code",
   "execution_count": 95,
   "id": "62cc5c31",
   "metadata": {},
   "outputs": [],
   "source": [
    "X[-1] = 1"
   ]
  },
  {
   "cell_type": "code",
   "execution_count": 99,
   "id": "32c2e32f",
   "metadata": {},
   "outputs": [
    {
     "data": {
      "text/plain": [
       "tensor([1, 0, 0, 7, 4, 8, 7])"
      ]
     },
     "execution_count": 99,
     "metadata": {},
     "output_type": "execute_result"
    }
   ],
   "source": [
    "values, kx = (tx<=X).min(dim=1)\n",
    "kx -= 1\n",
    "kx[values] = tx.size(0)-px-2\n",
    "kx"
   ]
  },
  {
   "cell_type": "code",
   "execution_count": 49,
   "id": "5dc8eb31",
   "metadata": {},
   "outputs": [
    {
     "data": {
      "text/plain": [
       "tensor([], size=(0, 2), dtype=torch.int64)"
      ]
     },
     "execution_count": 49,
     "metadata": {},
     "output_type": "execute_result"
    }
   ],
   "source": [
    "(tx>x.unsqueeze(1)).nonzero()"
   ]
  },
  {
   "cell_type": "code",
   "execution_count": null,
   "id": "6251e128",
   "metadata": {},
   "outputs": [],
   "source": [
    "torch.allclose()"
   ]
  },
  {
   "cell_type": "code",
   "execution_count": null,
   "id": "9a50e007",
   "metadata": {},
   "outputs": [],
   "source": [
    "# args = job_mgmt.get_job_args(\"dep1\")\n",
    "# data_loader = dataloader.get_inr_dataloader(args[\"data loading\"])\n",
    "# for inr, _ in data_loader:\n",
    "#     inr = to_black_box(inr).cuda()\n",
    "#     break"
   ]
  },
  {
   "cell_type": "code",
   "execution_count": 374,
   "id": "cdb5b740",
   "metadata": {},
   "outputs": [],
   "source": [
    "base_dir = \"/data/vision/polina/scratch/clintonw/datasets/imagenet21k_resized/imagenet21k_train\"\n",
    "subpaths = util.glob2(base_dir+\"/n06275353\")"
   ]
  },
  {
   "cell_type": "code",
   "execution_count": null,
   "id": "7cd6288e",
   "metadata": {},
   "outputs": [],
   "source": [
    "plt.imshow(plt.imread(subpaths[22]))"
   ]
  },
  {
   "cell_type": "code",
   "execution_count": 31,
   "id": "ad34fcda",
   "metadata": {},
   "outputs": [
    {
     "data": {
      "text/plain": [
       "torch.Size([1, 1, 3, 3])"
      ]
     },
     "execution_count": 31,
     "metadata": {},
     "output_type": "execute_result"
    }
   ],
   "source": [
    "conv.weight.data.shape"
   ]
  },
  {
   "cell_type": "code",
   "execution_count": null,
   "id": "65923c0d",
   "metadata": {},
   "outputs": [],
   "source": [
    "subpaths[:10]"
   ]
  },
  {
   "cell_type": "code",
   "execution_count": null,
   "id": "5441273b",
   "metadata": {},
   "outputs": [],
   "source": [
    "plt.imshow(rescale_float(img2), cmap=\"gray\")"
   ]
  },
  {
   "cell_type": "code",
   "execution_count": null,
   "id": "eaf6816d",
   "metadata": {},
   "outputs": [],
   "source": [
    "plt.imshow(rescale_float(img.squeeze().numpy()), cmap=\"gray\")"
   ]
  },
  {
   "cell_type": "code",
   "execution_count": 25,
   "id": "ee274853",
   "metadata": {},
   "outputs": [],
   "source": []
  },
  {
   "cell_type": "code",
   "execution_count": null,
   "id": "2671b8bf",
   "metadata": {},
   "outputs": [],
   "source": []
  },
  {
   "cell_type": "code",
   "execution_count": null,
   "id": "e87dce22",
   "metadata": {},
   "outputs": [],
   "source": [
    "python train.py -j=a6 -c=a6"
   ]
  },
  {
   "cell_type": "code",
   "execution_count": 26,
   "id": "90ae672a",
   "metadata": {},
   "outputs": [],
   "source": [
    "h,w=8,8\n",
    "xy_grid = util.meshgrid_coords(h,w)"
   ]
  },
  {
   "cell_type": "code",
   "execution_count": 97,
   "id": "bd030be8",
   "metadata": {},
   "outputs": [],
   "source": [
    "import torchvision.models as models\n",
    "m = models.efficientnet_b0()"
   ]
  },
  {
   "cell_type": "code",
   "execution_count": 4,
   "id": "b4584990",
   "metadata": {},
   "outputs": [],
   "source": [
    "from inrnet.models.inrs import dvr"
   ]
  },
  {
   "cell_type": "code",
   "execution_count": 15,
   "id": "6e0b0bc7",
   "metadata": {},
   "outputs": [],
   "source": [
    "D = dvr.Decoder(out_dim=1, c_dim=256)\n",
    "M = dvr.DVR(D)"
   ]
  },
  {
   "cell_type": "code",
   "execution_count": 5,
   "id": "fc358d94",
   "metadata": {},
   "outputs": [],
   "source": [
    "sd = torch.load(osp.expanduser(\"~/code/differentiable_volumetric_rendering/models/ours_depth-64d35726.pt\"))"
   ]
  },
  {
   "cell_type": "code",
   "execution_count": 29,
   "id": "425508da",
   "metadata": {},
   "outputs": [],
   "source": [
    "paths = util.glob2(\"/data/vision/polina/scratch/clintonw/datasets/ShapeNetCore.v2/02691156\")"
   ]
  },
  {
   "cell_type": "code",
   "execution_count": 56,
   "id": "182cfe7b",
   "metadata": {},
   "outputs": [],
   "source": [
    "REND_DIR = \"/data/vision/polina/scratch/clintonw/datasets/ShapeNetRendering\"\n",
    "imgs = util.glob2(REND_DIR+\"/02691156/c2f43dd2c483e0d86b7bd17e458d0dcb/rendering/*.png\")"
   ]
  },
  {
   "cell_type": "code",
   "execution_count": 40,
   "id": "8c22039b",
   "metadata": {},
   "outputs": [],
   "source": [
    "imgs = util.glob2(\"~/code/differentiable_volumetric_rendering/media/demo/choy_renderings\")"
   ]
  },
  {
   "cell_type": "code",
   "execution_count": null,
   "id": "3b75295d",
   "metadata": {},
   "outputs": [],
   "source": [
    "M.load_state_dict(sd[\"model\"], strict=False);"
   ]
  },
  {
   "cell_type": "code",
   "execution_count": 27,
   "id": "d3a3422b",
   "metadata": {},
   "outputs": [],
   "source": [
    "with torch.no_grad():\n",
    "    out = M.decoder(torch.zeros(1,3))"
   ]
  },
  {
   "cell_type": "code",
   "execution_count": null,
   "id": "129d4b0b",
   "metadata": {},
   "outputs": [],
   "source": []
  },
  {
   "cell_type": "code",
   "execution_count": 197,
   "id": "c0ef0940",
   "metadata": {},
   "outputs": [],
   "source": [
    "layer = nn.Conv2d(4,5,3)"
   ]
  },
  {
   "cell_type": "code",
   "execution_count": null,
   "id": "1f284be5",
   "metadata": {},
   "outputs": [],
   "source": [
    "inputs = feature_extractor(images=image, return_tensors=\"pt\")\n",
    "outputs = model(**inputs)\n",
    "logits = outputs.logits"
   ]
  },
  {
   "cell_type": "code",
   "execution_count": null,
   "id": "677c9a43",
   "metadata": {},
   "outputs": [],
   "source": []
  },
  {
   "cell_type": "code",
   "execution_count": 76,
   "id": "6bda67bc",
   "metadata": {},
   "outputs": [],
   "source": [
    "coco_len = 118287\n",
    "kitti_len = 80896\n",
    "horse_len = 1067\n",
    "zebra_len = 1334"
   ]
  },
  {
   "cell_type": "code",
   "execution_count": null,
   "id": "73b6b92f",
   "metadata": {},
   "outputs": [],
   "source": [
    "for ix in range(0,coco_len,1600):\n",
    "    if not osp.exists(f\"/data/vision/polina/scratch/clintonw/datasets/coco/siren_{ix+63}.pt\"):\n",
    "        print(\"sh fit_inr.sh\", f\"coco{ix//1600}\", \"fit_coco\", ix)"
   ]
  },
  {
   "cell_type": "code",
   "execution_count": null,
   "id": "00b852ca",
   "metadata": {},
   "outputs": [],
   "source": [
    "for ix in range(0,kitti_len,800):\n",
    "    if not osp.exists(f\"/data/vision/polina/scratch/clintonw/datasets/inrnet/kitti/siren_{ix+63}.pt\"):\n",
    "        print(\"sh fit_inr.sh\", f\"skit{ix//800}\", \"fit_kitti\", ix)"
   ]
  },
  {
   "cell_type": "code",
   "execution_count": null,
   "id": "1bc286a5",
   "metadata": {},
   "outputs": [],
   "source": [
    "for ix in range(0,zebra_len,128):\n",
    "    if not osp.exists(f\"/data/vision/polina/scratch/clintonw/datasets/inrnet/zebra/siren_{ix+15}.pt\"):\n",
    "        print(\"sh fit_inr.sh\", f\"zebra{ix//128}\", \"fit_zebra\", ix)"
   ]
  },
  {
   "cell_type": "code",
   "execution_count": null,
   "id": "004877cd",
   "metadata": {},
   "outputs": [],
   "source": [
    "for ix in range(0,horse_len,128):\n",
    "    if not osp.exists(f\"/data/vision/polina/scratch/clintonw/datasets/inrnet/horse/siren_{ix+15}.pt\"):\n",
    "        print(\"sh fit_inr.sh\", f\"horse{ix//128}\", \"fit_horse\", ix)"
   ]
  },
  {
   "cell_type": "code",
   "execution_count": 6,
   "id": "97a746fb",
   "metadata": {},
   "outputs": [
    {
     "data": {
      "text/plain": [
       "torch.Size([7, 2])"
      ]
     },
     "execution_count": 6,
     "metadata": {},
     "output_type": "execute_result"
    }
   ],
   "source": [
    "coords_out.shape"
   ]
  },
  {
   "cell_type": "code",
   "execution_count": null,
   "id": "dfc4a6a4",
   "metadata": {},
   "outputs": [],
   "source": [
    "img = plt.imread(\"/data/vision/polina/scratch/clintonw/datasets/inrnet/horse2zebra/testA/n02381460_9260.jpg\")"
   ]
  },
  {
   "cell_type": "code",
   "execution_count": null,
   "id": "47416653",
   "metadata": {},
   "outputs": [],
   "source": [
    "coords_out = coords_out[:,0]*5 + coords_out[:,1]"
   ]
  },
  {
   "cell_type": "code",
   "execution_count": 7,
   "id": "a6e4cea9",
   "metadata": {},
   "outputs": [],
   "source": [
    "coords_gt = coords_gt[:,0]*5 + coords_gt[:,1]\n",
    "coords_out = coords_out[:,0]*5 + coords_out[:,1]"
   ]
  },
  {
   "cell_type": "code",
   "execution_count": 14,
   "id": "085c7af9",
   "metadata": {},
   "outputs": [],
   "source": [
    "matches = coords_gt.unsqueeze(1) == coords_out.unsqueeze(0)"
   ]
  },
  {
   "cell_type": "code",
   "execution_count": 11,
   "id": "67409611",
   "metadata": {},
   "outputs": [
    {
     "data": {
      "text/plain": [
       "tensor([[-1.7325,  1.4917,  1.0375,  0.0800],\n",
       "        [ 0.6882, -2.1554, -1.8872,  0.3857],\n",
       "        [ 1.3248,  2.2584, -0.5773,  1.0302],\n",
       "        [-1.3867, -2.4084, -0.1861,  0.1831],\n",
       "        [ 0.6005,  0.0305, -1.4584,  0.5626],\n",
       "        [ 0.1056,  0.1705,  0.1341, -1.4289],\n",
       "        [-1.2510,  0.6950,  1.3818,  0.4026]])"
      ]
     },
     "execution_count": 11,
     "metadata": {},
     "output_type": "execute_result"
    }
   ],
   "source": [
    "out"
   ]
  },
  {
   "cell_type": "code",
   "execution_count": 13,
   "id": "df1af6a5",
   "metadata": {},
   "outputs": [
    {
     "data": {
      "text/plain": [
       "tensor([ 4.0818,  5.8486, -7.3113,  2.7945, -4.1563,  2.0609, -3.9877])"
      ]
     },
     "execution_count": 13,
     "metadata": {},
     "output_type": "execute_result"
    }
   ],
   "source": [
    "coords_gt"
   ]
  },
  {
   "cell_type": "code",
   "execution_count": 12,
   "id": "7481b1d9",
   "metadata": {},
   "outputs": [
    {
     "data": {
      "text/plain": [
       "tensor([ 4.0818, -7.3113, -4.1563, -3.9877,  5.8486,  2.7945,  2.0609])"
      ]
     },
     "execution_count": 12,
     "metadata": {},
     "output_type": "execute_result"
    }
   ],
   "source": [
    "coords_out"
   ]
  },
  {
   "cell_type": "code",
   "execution_count": 15,
   "id": "4d3576f1",
   "metadata": {
    "scrolled": true
   },
   "outputs": [
    {
     "data": {
      "text/plain": [
       "tensor([[-1.7325,  1.4917,  1.0375,  0.0800],\n",
       "        [ 0.6005,  0.0305, -1.4584,  0.5626],\n",
       "        [ 0.6882, -2.1554, -1.8872,  0.3857],\n",
       "        [ 0.1056,  0.1705,  0.1341, -1.4289],\n",
       "        [ 1.3248,  2.2584, -0.5773,  1.0302],\n",
       "        [-1.2510,  0.6950,  1.3818,  0.4026],\n",
       "        [-1.3867, -2.4084, -0.1861,  0.1831]])"
      ]
     },
     "execution_count": 15,
     "metadata": {},
     "output_type": "execute_result"
    }
   ],
   "source": [
    "out[torch.where(matches)[1]]"
   ]
  },
  {
   "cell_type": "code",
   "execution_count": null,
   "id": "038518cc",
   "metadata": {},
   "outputs": [],
   "source": [
    "plt.imshow(img)"
   ]
  },
  {
   "cell_type": "code",
   "execution_count": null,
   "id": "f6392169",
   "metadata": {},
   "outputs": [],
   "source": [
    "\"/data/vision/polina/scratch/clintonw/datasets/coco/annotations/panoptic_train2017\""
   ]
  },
  {
   "cell_type": "code",
   "execution_count": null,
   "id": "26693f19",
   "metadata": {},
   "outputs": [],
   "source": [
    "osp.exists(f\"/data/vision/polina/users/clintonw/code/diffcoord/temp/kitti/siren_{ix+63}.pt\")"
   ]
  },
  {
   "cell_type": "code",
   "execution_count": 60,
   "id": "201b45c6",
   "metadata": {},
   "outputs": [],
   "source": [
    "paths = sorted(util.glob2(\"/data/vision/polina/scratch/clintonw/datasets/inrnet/kitti/siren_*.pt\"))"
   ]
  },
  {
   "cell_type": "code",
   "execution_count": null,
   "id": "88ea9358",
   "metadata": {
    "code_folding": []
   },
   "outputs": [],
   "source": [
    "## search python strings\n",
    "import os\n",
    "osp = os.path\n",
    "root = osp.expanduser(\"~/code/placenta/placenta\")\n",
    "query_string = 'load_img'\n",
    "for folder, subfolders, files in os.walk(root):\n",
    "    for file in files:\n",
    "        if file.endswith(\".py\"):\n",
    "            path = osp.join(folder, file)\n",
    "            with open(path, 'r') as f:\n",
    "                if query_string in f.read():\n",
    "                    print(path)"
   ]
  },
  {
   "cell_type": "code",
   "execution_count": null,
   "id": "68966a7c",
   "metadata": {},
   "outputs": [],
   "source": [
    "coords_gt.shape"
   ]
  },
  {
   "cell_type": "code",
   "execution_count": 22,
   "id": "d4d74fa0",
   "metadata": {},
   "outputs": [
    {
     "data": {
      "text/plain": [
       "[4.0818400382995605,\n",
       " -7.311278820037842,\n",
       " -4.156335830688477,\n",
       " -3.98771595954895,\n",
       " 5.848553657531738,\n",
       " 2.794525623321533,\n",
       " 2.060873031616211]"
      ]
     },
     "execution_count": 22,
     "metadata": {},
     "output_type": "execute_result"
    }
   ],
   "source": [
    "out"
   ]
  }
 ],
 "metadata": {
  "kernelspec": {
   "display_name": "Python 3 (ipykernel)",
   "language": "python",
   "name": "python3"
  },
  "language_info": {
   "codemirror_mode": {
    "name": "ipython",
    "version": 3
   },
   "file_extension": ".py",
   "mimetype": "text/x-python",
   "name": "python",
   "nbconvert_exporter": "python",
   "pygments_lexer": "ipython3",
   "version": "3.10.3"
  }
 },
 "nbformat": 4,
 "nbformat_minor": 5
}

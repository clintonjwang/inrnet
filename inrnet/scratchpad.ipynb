{
 "cells": [
  {
   "cell_type": "code",
   "execution_count": 2,
   "id": "cfae1a8b",
   "metadata": {},
   "outputs": [],
   "source": [
    "import os, shutil, itertools, yaml, kornia, torchvision, sys, copy, math\n",
    "from functools import partial\n",
    "import dill as pickle\n",
    "from importlib import reload\n",
    "osp = os.path\n",
    "import numpy as np\n",
    "import matplotlib.pyplot as plt\n",
    "from torchvision import transforms\n",
    "import torch\n",
    "nn = torch.nn\n",
    "F = nn.functional\n",
    "import monai.transforms as mtr"
   ]
  },
  {
   "cell_type": "code",
   "execution_count": 3,
   "id": "e8944308",
   "metadata": {},
   "outputs": [],
   "source": [
    "from inrnet import args as args_module\n",
    "from inrnet import jobs as job_mgmt\n",
    "from inrnet import optim, util, losses\n",
    "from inrnet.data import dataloader, kitti\n",
    "from inrnet.experiments import depth\n",
    "from inrnet import inn\n",
    "import inrnet.inn.functional as inrF\n",
    "%matplotlib inline\n",
    "plt.rcParams[\"figure.figsize\"] = (4.0, 3.0)\n",
    "plt.rcParams['figure.dpi'] = 200\n",
    "\n",
    "rescale_clip = mtr.ScaleIntensityRangePercentiles(lower=1, upper=99, b_min=0, b_max=255, clip=True, dtype=np.uint8)\n",
    "rescale_noclip = mtr.ScaleIntensityRangePercentiles(lower=0, upper=100, b_min=0, b_max=255, clip=False, dtype=np.uint8)\n",
    "rescale_float = mtr.ScaleIntensity()\n",
    "\n",
    "TMP_DIR=osp.expanduser(\"~/code/diffcoord/temp\")"
   ]
  },
  {
   "cell_type": "markdown",
   "id": "289b2ca0",
   "metadata": {},
   "source": [
    "rsync -av --ignore-existing \\\n",
    "clintonw@peppercorn.csail.mit.edu:/data/vision/polina/users/clintonw/code/placenta/results/unetr_00 Downloads/"
   ]
  },
  {
   "cell_type": "markdown",
   "id": "ffbadd6f",
   "metadata": {},
   "source": [
    "## interactive"
   ]
  },
  {
   "cell_type": "code",
   "execution_count": 4,
   "id": "c2cd5e3d",
   "metadata": {},
   "outputs": [],
   "source": [
    "args = job_mgmt.get_job_args(\"inrcoco\")\n",
    "data_loader = dataloader.get_inr_dataloader(args)"
   ]
  },
  {
   "cell_type": "code",
   "execution_count": null,
   "id": "e87dce22",
   "metadata": {},
   "outputs": [],
   "source": [
    "python train.py -j=a6 -c=a6"
   ]
  },
  {
   "cell_type": "code",
   "execution_count": 26,
   "id": "90ae672a",
   "metadata": {},
   "outputs": [],
   "source": [
    "h,w=8,8\n",
    "xy_grid = util.meshgrid_coords(h,w)"
   ]
  },
  {
   "cell_type": "code",
   "execution_count": 97,
   "id": "bd030be8",
   "metadata": {},
   "outputs": [],
   "source": [
    "import torchvision.models as models\n",
    "m = models.efficientnet_b0()"
   ]
  },
  {
   "cell_type": "code",
   "execution_count": 4,
   "id": "b4584990",
   "metadata": {},
   "outputs": [],
   "source": [
    "from inrnet.models.inrs import dvr"
   ]
  },
  {
   "cell_type": "code",
   "execution_count": 15,
   "id": "6e0b0bc7",
   "metadata": {},
   "outputs": [],
   "source": [
    "D = dvr.Decoder(out_dim=1, c_dim=256)\n",
    "M = dvr.DVR(D)"
   ]
  },
  {
   "cell_type": "code",
   "execution_count": 5,
   "id": "fc358d94",
   "metadata": {},
   "outputs": [],
   "source": [
    "sd = torch.load(osp.expanduser(\"~/code/differentiable_volumetric_rendering/models/ours_depth-64d35726.pt\"))"
   ]
  },
  {
   "cell_type": "code",
   "execution_count": 29,
   "id": "425508da",
   "metadata": {},
   "outputs": [],
   "source": [
    "paths = util.glob2(\"/data/vision/polina/scratch/clintonw/datasets/ShapeNetCore.v2/02691156\")"
   ]
  },
  {
   "cell_type": "code",
   "execution_count": 56,
   "id": "182cfe7b",
   "metadata": {},
   "outputs": [],
   "source": [
    "REND_DIR = \"/data/vision/polina/scratch/clintonw/datasets/ShapeNetRendering\"\n",
    "imgs = util.glob2(REND_DIR+\"/02691156/c2f43dd2c483e0d86b7bd17e458d0dcb/rendering/*.png\")"
   ]
  },
  {
   "cell_type": "code",
   "execution_count": 40,
   "id": "8c22039b",
   "metadata": {},
   "outputs": [],
   "source": [
    "imgs = util.glob2(\"~/code/differentiable_volumetric_rendering/media/demo/choy_renderings\")"
   ]
  },
  {
   "cell_type": "code",
   "execution_count": null,
   "id": "3b75295d",
   "metadata": {},
   "outputs": [],
   "source": [
    "M.load_state_dict(sd[\"model\"], strict=False);"
   ]
  },
  {
   "cell_type": "code",
   "execution_count": 27,
   "id": "d3a3422b",
   "metadata": {},
   "outputs": [],
   "source": [
    "with torch.no_grad():\n",
    "    out = M.decoder(torch.zeros(1,3))"
   ]
  },
  {
   "cell_type": "code",
   "execution_count": 47,
   "id": "a7eabd1b",
   "metadata": {},
   "outputs": [],
   "source": [
    "xy_grids = util.meshgrid_split_coords(4,4)\n",
    "coords_out = torch.cat(xy_grids, dim=0)\n",
    "coords_gt = util.meshgrid_coords(4,4)"
   ]
  },
  {
   "cell_type": "code",
   "execution_count": 28,
   "id": "9e47b6f7",
   "metadata": {},
   "outputs": [],
   "source": [
    "coords_gt = coords_gt[:,0]*4 + coords_gt[:,1]\n",
    "coords_out = coords_out[:,0]*4 + coords_out[:,1]"
   ]
  },
  {
   "cell_type": "code",
   "execution_count": 39,
   "id": "0167e8f4",
   "metadata": {},
   "outputs": [],
   "source": [
    "out = coords_out.cpu().numpy().tolist()\n",
    "indices = [out.index(gt) for gt in coords_gt.cpu().numpy()]"
   ]
  },
  {
   "cell_type": "code",
   "execution_count": 75,
   "id": "da3cee4e",
   "metadata": {},
   "outputs": [],
   "source": [
    "h,w=6,8\n",
    "xy_grids = util.meshgrid_split_coords(h,w)\n",
    "coords_out = torch.cat(xy_grids, dim=0)\n",
    "coords_gt = util.meshgrid_coords(h,w)"
   ]
  },
  {
   "cell_type": "code",
   "execution_count": 162,
   "id": "b4bccbe7",
   "metadata": {},
   "outputs": [],
   "source": [
    "N = 6688\n",
    "gtindices = np.arange(N)\n",
    "np.random.shuffle(gtindices)\n",
    "x = torch.randn(N,4)\n",
    "coords_out = torch.randn(N,2)\n",
    "coords_gt = coords_out[gtindices]\n",
    "coords_gt = coords_gt[:,0]*4 + coords_gt[:,1]\n",
    "coords_out = coords_out[:,0]*4 + coords_out[:,1]"
   ]
  },
  {
   "cell_type": "code",
   "execution_count": 192,
   "id": "ffe344a8",
   "metadata": {},
   "outputs": [
    {
     "name": "stdout",
     "output_type": "stream",
     "text": [
      "1254 419\n"
     ]
    }
   ],
   "source": [
    "split = 16\n",
    "N = coords_out.size(0)\n",
    "dx = N//split\n",
    "indices = []\n",
    "for ix in range(0,N,dx):\n",
    "    matches = coords_gt[ix:ix+dx].unsqueeze(0).cuda() == coords_out.unsqueeze(1).cuda()\n",
    "    indices.append(torch.where(matches.T)[1])\n",
    "    if indices[-1].size(0) != dx:\n",
    "        ok = torch.where(matches.T)[1]\n",
    "        print(ix, indices[-1].size(0))\n",
    "        break\n",
    "indices = torch.cat(indices,dim=0)"
   ]
  },
  {
   "cell_type": "code",
   "execution_count": 190,
   "id": "1b8a0377",
   "metadata": {
    "scrolled": true
   },
   "outputs": [
    {
     "data": {
      "text/plain": [
       "418"
      ]
     },
     "execution_count": 190,
     "metadata": {},
     "output_type": "execute_result"
    }
   ],
   "source": [
    "dx"
   ]
  },
  {
   "cell_type": "code",
   "execution_count": 188,
   "id": "77687acc",
   "metadata": {},
   "outputs": [
    {
     "data": {
      "text/plain": [
       "torch.Size([6690])"
      ]
     },
     "execution_count": 188,
     "metadata": {},
     "output_type": "execute_result"
    }
   ],
   "source": [
    "indices.shape"
   ]
  },
  {
   "cell_type": "code",
   "execution_count": 110,
   "id": "b70a5522",
   "metadata": {},
   "outputs": [],
   "source": [
    "matches = coords_gt.unsqueeze(1) == coords_out.unsqueeze(0)\n",
    "indices = torch.where(matches)[1]"
   ]
  },
  {
   "cell_type": "code",
   "execution_count": null,
   "id": "1ab6e88c",
   "metadata": {},
   "outputs": [],
   "source": [
    "torch.nonzero(coords_gt == coords_out[ix:ix+dx].unsqueeze(0))"
   ]
  },
  {
   "cell_type": "code",
   "execution_count": null,
   "id": "fa3dc256",
   "metadata": {},
   "outputs": [],
   "source": [
    "x[indices]"
   ]
  },
  {
   "cell_type": "code",
   "execution_count": 106,
   "id": "f129e463",
   "metadata": {},
   "outputs": [
    {
     "data": {
      "text/plain": [
       "torch.int64"
      ]
     },
     "execution_count": 106,
     "metadata": {},
     "output_type": "execute_result"
    }
   ],
   "source": [
    "torch.cat(indices,dim=0)"
   ]
  },
  {
   "cell_type": "code",
   "execution_count": 80,
   "id": "b787108a",
   "metadata": {},
   "outputs": [
    {
     "data": {
      "text/plain": [
       "tensor([[-0.6482, -1.3018, -0.9823,  0.5644],\n",
       "        [ 1.0798,  0.2020, -1.5322, -0.6266],\n",
       "        [-1.6085, -0.6308, -0.5739, -2.2699],\n",
       "        [ 1.2115,  0.1361, -0.8018,  0.2340],\n",
       "        [-0.4681, -0.3251, -0.7570,  0.2249],\n",
       "        [-1.3283,  2.4344, -2.2429,  0.2720],\n",
       "        [ 0.2246, -0.5195,  0.2337, -0.3488]])"
      ]
     },
     "execution_count": 80,
     "metadata": {},
     "output_type": "execute_result"
    }
   ],
   "source": [
    "x[indices]"
   ]
  },
  {
   "cell_type": "code",
   "execution_count": null,
   "id": "9a339d47",
   "metadata": {},
   "outputs": [],
   "source": []
  },
  {
   "cell_type": "code",
   "execution_count": 76,
   "id": "6bda67bc",
   "metadata": {},
   "outputs": [],
   "source": [
    "coco_len = 118287\n",
    "kitti_len = 80896\n",
    "horse_len = 1067\n",
    "zebra_len = 1334"
   ]
  },
  {
   "cell_type": "code",
   "execution_count": null,
   "id": "73b6b92f",
   "metadata": {},
   "outputs": [],
   "source": [
    "for ix in range(0,coco_len,1600):\n",
    "    if not osp.exists(f\"/data/vision/polina/scratch/clintonw/datasets/coco/siren_{ix+63}.pt\"):\n",
    "        print(\"sh fit_inr.sh\", f\"coco{ix//1600}\", \"fit_coco\", ix)"
   ]
  },
  {
   "cell_type": "code",
   "execution_count": null,
   "id": "00b852ca",
   "metadata": {},
   "outputs": [],
   "source": [
    "for ix in range(0,kitti_len,800):\n",
    "    if not osp.exists(f\"/data/vision/polina/scratch/clintonw/datasets/inrnet/kitti/siren_{ix+63}.pt\"):\n",
    "        print(\"sh fit_inr.sh\", f\"skit{ix//800}\", \"fit_kitti\", ix)"
   ]
  },
  {
   "cell_type": "code",
   "execution_count": null,
   "id": "1bc286a5",
   "metadata": {},
   "outputs": [],
   "source": [
    "for ix in range(0,zebra_len,128):\n",
    "    if not osp.exists(f\"/data/vision/polina/scratch/clintonw/datasets/inrnet/zebra/siren_{ix+15}.pt\"):\n",
    "        print(\"sh fit_inr.sh\", f\"zebra{ix//128}\", \"fit_zebra\", ix)"
   ]
  },
  {
   "cell_type": "code",
   "execution_count": null,
   "id": "004877cd",
   "metadata": {},
   "outputs": [],
   "source": [
    "for ix in range(0,horse_len,128):\n",
    "    if not osp.exists(f\"/data/vision/polina/scratch/clintonw/datasets/inrnet/horse/siren_{ix+15}.pt\"):\n",
    "        print(\"sh fit_inr.sh\", f\"horse{ix//128}\", \"fit_horse\", ix)"
   ]
  },
  {
   "cell_type": "code",
   "execution_count": 6,
   "id": "97a746fb",
   "metadata": {},
   "outputs": [
    {
     "data": {
      "text/plain": [
       "torch.Size([7, 2])"
      ]
     },
     "execution_count": 6,
     "metadata": {},
     "output_type": "execute_result"
    }
   ],
   "source": [
    "coords_out.shape"
   ]
  },
  {
   "cell_type": "code",
   "execution_count": null,
   "id": "dfc4a6a4",
   "metadata": {},
   "outputs": [],
   "source": [
    "img = plt.imread(\"/data/vision/polina/scratch/clintonw/datasets/inrnet/horse2zebra/testA/n02381460_9260.jpg\")"
   ]
  },
  {
   "cell_type": "code",
   "execution_count": null,
   "id": "47416653",
   "metadata": {},
   "outputs": [],
   "source": [
    "coords_out = coords_out[:,0]*5 + coords_out[:,1]"
   ]
  },
  {
   "cell_type": "code",
   "execution_count": 7,
   "id": "a6e4cea9",
   "metadata": {},
   "outputs": [],
   "source": [
    "coords_gt = coords_gt[:,0]*5 + coords_gt[:,1]\n",
    "coords_out = coords_out[:,0]*5 + coords_out[:,1]"
   ]
  },
  {
   "cell_type": "code",
   "execution_count": 14,
   "id": "085c7af9",
   "metadata": {},
   "outputs": [],
   "source": [
    "matches = coords_gt.unsqueeze(1) == coords_out.unsqueeze(0)"
   ]
  },
  {
   "cell_type": "code",
   "execution_count": 11,
   "id": "67409611",
   "metadata": {},
   "outputs": [
    {
     "data": {
      "text/plain": [
       "tensor([[-1.7325,  1.4917,  1.0375,  0.0800],\n",
       "        [ 0.6882, -2.1554, -1.8872,  0.3857],\n",
       "        [ 1.3248,  2.2584, -0.5773,  1.0302],\n",
       "        [-1.3867, -2.4084, -0.1861,  0.1831],\n",
       "        [ 0.6005,  0.0305, -1.4584,  0.5626],\n",
       "        [ 0.1056,  0.1705,  0.1341, -1.4289],\n",
       "        [-1.2510,  0.6950,  1.3818,  0.4026]])"
      ]
     },
     "execution_count": 11,
     "metadata": {},
     "output_type": "execute_result"
    }
   ],
   "source": [
    "out"
   ]
  },
  {
   "cell_type": "code",
   "execution_count": 13,
   "id": "df1af6a5",
   "metadata": {},
   "outputs": [
    {
     "data": {
      "text/plain": [
       "tensor([ 4.0818,  5.8486, -7.3113,  2.7945, -4.1563,  2.0609, -3.9877])"
      ]
     },
     "execution_count": 13,
     "metadata": {},
     "output_type": "execute_result"
    }
   ],
   "source": [
    "coords_gt"
   ]
  },
  {
   "cell_type": "code",
   "execution_count": 12,
   "id": "7481b1d9",
   "metadata": {},
   "outputs": [
    {
     "data": {
      "text/plain": [
       "tensor([ 4.0818, -7.3113, -4.1563, -3.9877,  5.8486,  2.7945,  2.0609])"
      ]
     },
     "execution_count": 12,
     "metadata": {},
     "output_type": "execute_result"
    }
   ],
   "source": [
    "coords_out"
   ]
  },
  {
   "cell_type": "code",
   "execution_count": 15,
   "id": "4d3576f1",
   "metadata": {
    "scrolled": true
   },
   "outputs": [
    {
     "data": {
      "text/plain": [
       "tensor([[-1.7325,  1.4917,  1.0375,  0.0800],\n",
       "        [ 0.6005,  0.0305, -1.4584,  0.5626],\n",
       "        [ 0.6882, -2.1554, -1.8872,  0.3857],\n",
       "        [ 0.1056,  0.1705,  0.1341, -1.4289],\n",
       "        [ 1.3248,  2.2584, -0.5773,  1.0302],\n",
       "        [-1.2510,  0.6950,  1.3818,  0.4026],\n",
       "        [-1.3867, -2.4084, -0.1861,  0.1831]])"
      ]
     },
     "execution_count": 15,
     "metadata": {},
     "output_type": "execute_result"
    }
   ],
   "source": [
    "out[torch.where(matches)[1]]"
   ]
  },
  {
   "cell_type": "code",
   "execution_count": null,
   "id": "038518cc",
   "metadata": {},
   "outputs": [],
   "source": [
    "plt.imshow(img)"
   ]
  },
  {
   "cell_type": "code",
   "execution_count": null,
   "id": "f6392169",
   "metadata": {},
   "outputs": [],
   "source": [
    "\"/data/vision/polina/scratch/clintonw/datasets/coco/annotations/panoptic_train2017\""
   ]
  },
  {
   "cell_type": "code",
   "execution_count": null,
   "id": "26693f19",
   "metadata": {},
   "outputs": [],
   "source": [
    "osp.exists(f\"/data/vision/polina/users/clintonw/code/diffcoord/temp/kitti/siren_{ix+63}.pt\")"
   ]
  },
  {
   "cell_type": "code",
   "execution_count": 60,
   "id": "201b45c6",
   "metadata": {},
   "outputs": [],
   "source": [
    "paths = sorted(util.glob2(\"/data/vision/polina/scratch/clintonw/datasets/inrnet/kitti/siren_*.pt\"))"
   ]
  },
  {
   "cell_type": "code",
   "execution_count": null,
   "id": "88ea9358",
   "metadata": {
    "code_folding": []
   },
   "outputs": [],
   "source": [
    "## search python strings\n",
    "import os\n",
    "osp = os.path\n",
    "root = osp.expanduser(\"~/code/placenta/placenta\")\n",
    "query_string = 'load_img'\n",
    "for folder, subfolders, files in os.walk(root):\n",
    "    for file in files:\n",
    "        if file.endswith(\".py\"):\n",
    "            path = osp.join(folder, file)\n",
    "            with open(path, 'r') as f:\n",
    "                if query_string in f.read():\n",
    "                    print(path)"
   ]
  },
  {
   "cell_type": "code",
   "execution_count": null,
   "id": "68966a7c",
   "metadata": {},
   "outputs": [],
   "source": [
    "coords_gt.shape"
   ]
  },
  {
   "cell_type": "code",
   "execution_count": 22,
   "id": "d4d74fa0",
   "metadata": {},
   "outputs": [
    {
     "data": {
      "text/plain": [
       "[4.0818400382995605,\n",
       " -7.311278820037842,\n",
       " -4.156335830688477,\n",
       " -3.98771595954895,\n",
       " 5.848553657531738,\n",
       " 2.794525623321533,\n",
       " 2.060873031616211]"
      ]
     },
     "execution_count": 22,
     "metadata": {},
     "output_type": "execute_result"
    }
   ],
   "source": [
    "out"
   ]
  }
 ],
 "metadata": {
  "kernelspec": {
   "display_name": "Python 3 (ipykernel)",
   "language": "python",
   "name": "python3"
  },
  "language_info": {
   "codemirror_mode": {
    "name": "ipython",
    "version": 3
   },
   "file_extension": ".py",
   "mimetype": "text/x-python",
   "name": "python",
   "nbconvert_exporter": "python",
   "pygments_lexer": "ipython3",
   "version": "3.10.3"
  }
 },
 "nbformat": 4,
 "nbformat_minor": 5
}

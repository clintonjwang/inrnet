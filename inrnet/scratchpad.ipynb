{
 "cells": [
  {
   "cell_type": "code",
   "execution_count": 36,
   "id": "cfae1a8b",
   "metadata": {},
   "outputs": [],
   "source": [
    "import os, shutil, itertools, yaml, kornia, torchvision, sys, copy, math\n",
    "from functools import partial\n",
    "import dill as pickle\n",
    "from importlib import reload\n",
    "osp = os.path\n",
    "import numpy as np\n",
    "import matplotlib.pyplot as plt\n",
    "from torchvision import transforms\n",
    "import seaborn as sns\n",
    "from PIL import Image\n",
    "import torch\n",
    "nn = torch.nn\n",
    "F = nn.functional\n",
    "import monai.transforms as mtr\n",
    "from time import time"
   ]
  },
  {
   "cell_type": "code",
   "execution_count": 2,
   "id": "e8944308",
   "metadata": {},
   "outputs": [],
   "source": [
    "from inrnet import args as args_module\n",
    "from inrnet import jobs as job_mgmt\n",
    "from inrnet import optim, util, losses\n",
    "from inrnet.data import dataloader, kitti\n",
    "from inrnet.experiments import depth\n",
    "from inrnet import inn\n",
    "import inrnet.inn.functional as inrF\n",
    "%matplotlib inline\n",
    "plt.rcParams[\"figure.figsize\"] = (4.0, 3.0)\n",
    "plt.rcParams['figure.dpi'] = 200\n",
    "\n",
    "rescale_clip = mtr.ScaleIntensityRangePercentiles(lower=1, upper=99, b_min=0, b_max=255, clip=True, dtype=np.uint8)\n",
    "rescale_noclip = mtr.ScaleIntensityRangePercentiles(lower=0, upper=100, b_min=0, b_max=255, clip=False, dtype=np.uint8)\n",
    "rescale_float = mtr.ScaleIntensity()\n",
    "\n",
    "TMP_DIR=osp.expanduser(\"~/code/diffcoord/temp\")"
   ]
  },
  {
   "cell_type": "markdown",
   "id": "289b2ca0",
   "metadata": {},
   "source": [
    "rsync -av --ignore-existing \\\n",
    "clintonw@peppercorn.csail.mit.edu:/data/vision/polina/users/clintonw/code/placenta/results/unetr_00 Downloads/"
   ]
  },
  {
   "cell_type": "markdown",
   "id": "ffbadd6f",
   "metadata": {},
   "source": [
    "## interactive"
   ]
  },
  {
   "cell_type": "code",
   "execution_count": 3,
   "id": "c007f6a7",
   "metadata": {},
   "outputs": [],
   "source": [
    "model = torchvision.models.efficientnet_b0(pretrained=True)"
   ]
  },
  {
   "cell_type": "code",
   "execution_count": null,
   "id": "78e5b326",
   "metadata": {},
   "outputs": [],
   "source": [
    "reload(inrF);"
   ]
  },
  {
   "cell_type": "code",
   "execution_count": 78,
   "id": "90ff5d79",
   "metadata": {},
   "outputs": [],
   "source": [
    "torch.cuda.empty_cache()\n",
    "coords = util.meshgrid_coords(64,64)\n",
    "#spacing = torch.tensor((4/127,4/127), device=\"cuda\")\n",
    "values = torch.randn(coords.size(0),6, device=coords.device)"
   ]
  },
  {
   "cell_type": "code",
   "execution_count": null,
   "id": "ba5a1b63",
   "metadata": {},
   "outputs": [],
   "source": [
    "ax = sns.lineplot(x=torch.linspace(128,256,10), y=torch.linspace(.5,.8,10)+torch.randn(10)/8, label=\"qmc\");\n",
    "sns.lineplot(x=torch.linspace(128,256,10), y=torch.linspace(.1,.8,10)+torch.randn(10)/8, label=\"grid\", ax=ax);\n",
    "ax.set_xlabel(\"Number of sample points\");\n",
    "ax.set_ylabel(\"ImageNet top-1 error\");"
   ]
  },
  {
   "cell_type": "code",
   "execution_count": null,
   "id": "110080d3",
   "metadata": {},
   "outputs": [],
   "source": []
  },
  {
   "cell_type": "code",
   "execution_count": 70,
   "id": "aacab786",
   "metadata": {},
   "outputs": [
    {
     "data": {
      "text/plain": [
       "50001"
      ]
     },
     "execution_count": 70,
     "metadata": {},
     "output_type": "execute_result"
    }
   ],
   "source": [
    "len(txt)"
   ]
  },
  {
   "cell_type": "code",
   "execution_count": 65,
   "id": "cdb5b740",
   "metadata": {},
   "outputs": [],
   "source": [
    "path = \"/data/vision/polina/scratch/clintonw/datasets/imagenet_pytorch/labels.txt\"\n",
    "classes = open(path, 'r').read().split('\\n')"
   ]
  },
  {
   "cell_type": "code",
   "execution_count": 5,
   "id": "fc358d94",
   "metadata": {},
   "outputs": [],
   "source": [
    "sd = torch.load(osp.expanduser(\"~/code/differentiable_volumetric_rendering/models/ours_depth-64d35726.pt\"))"
   ]
  },
  {
   "cell_type": "code",
   "execution_count": 29,
   "id": "425508da",
   "metadata": {},
   "outputs": [],
   "source": [
    "paths = util.glob2(\"/data/vision/polina/scratch/clintonw/datasets/ShapeNetCore.v2/02691156\")"
   ]
  },
  {
   "cell_type": "code",
   "execution_count": 56,
   "id": "182cfe7b",
   "metadata": {},
   "outputs": [],
   "source": [
    "REND_DIR = \"/data/vision/polina/scratch/clintonw/datasets/ShapeNetRendering\"\n",
    "imgs = util.glob2(REND_DIR+\"/02691156/c2f43dd2c483e0d86b7bd17e458d0dcb/rendering/*.png\")"
   ]
  },
  {
   "cell_type": "code",
   "execution_count": 40,
   "id": "8c22039b",
   "metadata": {},
   "outputs": [],
   "source": [
    "imgs = util.glob2(\"~/code/differentiable_volumetric_rendering/media/demo/choy_renderings\")"
   ]
  },
  {
   "cell_type": "code",
   "execution_count": null,
   "id": "3b75295d",
   "metadata": {},
   "outputs": [],
   "source": [
    "M.load_state_dict(sd[\"model\"], strict=False);"
   ]
  },
  {
   "cell_type": "code",
   "execution_count": 27,
   "id": "d3a3422b",
   "metadata": {},
   "outputs": [],
   "source": [
    "with torch.no_grad():\n",
    "    out = M.decoder(torch.zeros(1,3))"
   ]
  },
  {
   "cell_type": "code",
   "execution_count": null,
   "id": "a35d17a3",
   "metadata": {},
   "outputs": [],
   "source": []
  },
  {
   "cell_type": "code",
   "execution_count": 73,
   "id": "6bda67bc",
   "metadata": {},
   "outputs": [],
   "source": [
    "coco_len = 118287\n",
    "kitti_len = 80896\n",
    "horse_len = 1067\n",
    "zebra_len = 1334\n",
    "inet_len = 50000"
   ]
  },
  {
   "cell_type": "code",
   "execution_count": null,
   "id": "17981474",
   "metadata": {},
   "outputs": [],
   "source": [
    "for ix in range(0,inet_len,800):\n",
    "    if not osp.exists(f\"/data/vision/polina/scratch/clintonw/datasets/inrnet/inet1k/siren_{ix+63}.pt\"):\n",
    "        print(\"sh fit_inr.sh\", f\"inet{ix//800}\", \"fit_inet\", ix)"
   ]
  },
  {
   "cell_type": "code",
   "execution_count": null,
   "id": "73b6b92f",
   "metadata": {},
   "outputs": [],
   "source": [
    "for ix in range(0,coco_len,1600):\n",
    "    if not osp.exists(f\"/data/vision/polina/scratch/clintonw/datasets/inrnet/coco/siren_{ix+63}.pt\"):\n",
    "        print(\"sh fit_inr.sh\", f\"coco{ix//1600}\", \"fit_coco\", ix)"
   ]
  },
  {
   "cell_type": "code",
   "execution_count": null,
   "id": "00b852ca",
   "metadata": {},
   "outputs": [],
   "source": [
    "for ix in range(0,kitti_len,800):\n",
    "    if not osp.exists(f\"/data/vision/polina/scratch/clintonw/datasets/inrnet/kitti/siren_{ix+63}.pt\"):\n",
    "        print(\"sh fit_inr.sh\", f\"skit{ix//800}\", \"fit_kitti\", ix)"
   ]
  },
  {
   "cell_type": "code",
   "execution_count": null,
   "id": "1bc286a5",
   "metadata": {},
   "outputs": [],
   "source": [
    "for ix in range(0,zebra_len,128):\n",
    "    if not osp.exists(f\"/data/vision/polina/scratch/clintonw/datasets/inrnet/zebra/siren_{ix+15}.pt\"):\n",
    "        print(\"sh fit_inr.sh\", f\"zebra{ix//128}\", \"fit_zebra\", ix)"
   ]
  },
  {
   "cell_type": "code",
   "execution_count": null,
   "id": "004877cd",
   "metadata": {},
   "outputs": [],
   "source": [
    "for ix in range(0,horse_len,128):\n",
    "    if not osp.exists(f\"/data/vision/polina/scratch/clintonw/datasets/inrnet/horse/siren_{ix+15}.pt\"):\n",
    "        print(\"sh fit_inr.sh\", f\"horse{ix//128}\", \"fit_horse\", ix)"
   ]
  },
  {
   "cell_type": "code",
   "execution_count": null,
   "id": "dfc4a6a4",
   "metadata": {},
   "outputs": [],
   "source": [
    "img = plt.imread(\"/data/vision/polina/scratch/clintonw/datasets/inrnet/horse2zebra/testA/n02381460_9260.jpg\")"
   ]
  },
  {
   "cell_type": "code",
   "execution_count": null,
   "id": "f6392169",
   "metadata": {},
   "outputs": [],
   "source": [
    "\"/data/vision/polina/scratch/clintonw/datasets/coco/annotations/panoptic_train2017\""
   ]
  },
  {
   "cell_type": "code",
   "execution_count": null,
   "id": "26693f19",
   "metadata": {},
   "outputs": [],
   "source": [
    "osp.exists(f\"/data/vision/polina/users/clintonw/code/diffcoord/temp/kitti/siren_{ix+63}.pt\")"
   ]
  },
  {
   "cell_type": "code",
   "execution_count": null,
   "id": "3955cb63",
   "metadata": {},
   "outputs": [],
   "source": [
    "import monai.transforms as mtr\n",
    "rescale_float = mtr.ScaleIntensity()\n",
    "fname = osp.expanduser(\"~/downloads/orig.png\")\n",
    "arr = rescale_float(img.squeeze().permute(1,2,0).cpu().numpy())\n",
    "plt.imsave(fname, arr)\n",
    "INR.H,INR.W=H,W\n",
    "arr = rescale_float(INR.produce_image().cpu().numpy())\n",
    "fname = osp.expanduser(\"~/downloads/siren.png\")\n",
    "plt.imsave(fname, arr)"
   ]
  },
  {
   "cell_type": "code",
   "execution_count": 60,
   "id": "201b45c6",
   "metadata": {},
   "outputs": [],
   "source": [
    "paths = sorted(util.glob2(\"/data/vision/polina/scratch/clintonw/datasets/inrnet/kitti/siren_*.pt\"))"
   ]
  },
  {
   "cell_type": "code",
   "execution_count": null,
   "id": "122b71a0",
   "metadata": {},
   "outputs": [],
   "source": []
  },
  {
   "cell_type": "code",
   "execution_count": null,
   "id": "88ea9358",
   "metadata": {
    "code_folding": []
   },
   "outputs": [],
   "source": [
    "## search python strings\n",
    "import os\n",
    "osp = os.path\n",
    "root = osp.expanduser(\"~/code/placenta/placenta\")\n",
    "query_string = 'load_img'\n",
    "for folder, subfolders, files in os.walk(root):\n",
    "    for file in files:\n",
    "        if file.endswith(\".py\"):\n",
    "            path = osp.join(folder, file)\n",
    "            with open(path, 'r') as f:\n",
    "                if query_string in f.read():\n",
    "                    print(path)"
   ]
  }
 ],
 "metadata": {
  "kernelspec": {
   "display_name": "Python 3 (ipykernel)",
   "language": "python",
   "name": "python3"
  },
  "language_info": {
   "codemirror_mode": {
    "name": "ipython",
    "version": 3
   },
   "file_extension": ".py",
   "mimetype": "text/x-python",
   "name": "python",
   "nbconvert_exporter": "python",
   "pygments_lexer": "ipython3",
   "version": "3.10.3"
  }
 },
 "nbformat": 4,
 "nbformat_minor": 5
}

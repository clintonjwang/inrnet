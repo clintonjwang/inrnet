{
 "cells": [
  {
   "cell_type": "code",
   "execution_count": 1,
   "id": "cfae1a8b",
   "metadata": {},
   "outputs": [],
   "source": [
    "import os, shutil, itertools, yaml, kornia, torchvision\n",
    "import dill as pickle\n",
    "from importlib import reload\n",
    "osp = os.path\n",
    "import numpy as np\n",
    "import matplotlib.pyplot as plt\n",
    "from torchvision import transforms\n",
    "import torch\n",
    "nn = torch.nn\n",
    "F = nn.functional\n",
    "import monai.transforms as mtr"
   ]
  },
  {
   "cell_type": "code",
   "execution_count": 2,
   "id": "e8944308",
   "metadata": {},
   "outputs": [],
   "source": [
    "import args as args_module\n",
    "import jobs as job_mgmt\n",
    "import optim, util, losses\n",
    "from analysis import analyze\n",
    "from data import dataloader\n",
    "from models import model as model_module, common, img2d, ddpm, baseline\n",
    "%matplotlib inline\n",
    "plt.rcParams[\"figure.figsize\"] = (4.0, 3.0)\n",
    "plt.rcParams['figure.dpi'] = 200\n",
    "\n",
    "rescale_clip = mtr.ScaleIntensityRangePercentiles(lower=1, upper=99, b_min=0, b_max=255, clip=True, dtype=np.uint8)\n",
    "rescale_noclip = mtr.ScaleIntensityRangePercentiles(lower=0, upper=100, b_min=0, b_max=255, clip=False, dtype=np.uint8)\n",
    "rescale_float = mtr.ScaleIntensity()\n",
    "\n",
    "TMP_DIR=osp.expanduser(\"~/code/diffcoord/temp\")"
   ]
  },
  {
   "cell_type": "markdown",
   "id": "289b2ca0",
   "metadata": {},
   "source": [
    "rsync -av --ignore-existing \\\n",
    "clintonw@peppercorn.csail.mit.edu:/data/vision/polina/users/clintonw/code/placenta/results/unetr_00 Downloads/"
   ]
  },
  {
   "cell_type": "markdown",
   "id": "ffbadd6f",
   "metadata": {},
   "source": [
    "## interactive"
   ]
  },
  {
   "cell_type": "code",
   "execution_count": null,
   "id": "ced68f47",
   "metadata": {},
   "outputs": [],
   "source": [
    "reload(dataloader);"
   ]
  },
  {
   "cell_type": "code",
   "execution_count": 3,
   "id": "213129e5",
   "metadata": {},
   "outputs": [],
   "source": [
    "args = job_mgmt.get_job_args(\"test\")\n",
    "args[\"data loading\"][\"dataset\"] = \"COCO\"\n",
    "data_loader = dataloader.get_dataloader(args)"
   ]
  },
  {
   "cell_type": "code",
   "execution_count": 8,
   "id": "43cc7ece",
   "metadata": {},
   "outputs": [],
   "source": [
    "reload(img2d);"
   ]
  },
  {
   "cell_type": "code",
   "execution_count": 42,
   "id": "e7bcedd1",
   "metadata": {},
   "outputs": [],
   "source": [
    "param_dicts = torch.load(osp.join(TMP_DIR, \"siren_63.pt\"))\n",
    "keys = ['net.0.linear.weight', 'net.0.linear.bias', 'net.1.linear.weight', 'net.1.linear.bias', 'net.2.linear.weight', 'net.2.linear.bias', 'net.3.linear.weight', 'net.3.linear.bias', 'net.4.weight', 'net.4.bias']\n",
    "shape_by_key = {}\n",
    "inputs = []\n",
    "for k in keys:\n",
    "    param_dicts[k] = torch.stack(param_dicts[k],0)\n",
    "    shape_by_key[k] = param_dicts[k].shape[1:]\n",
    "    inputs.append(param_dicts[k].flatten(start_dim=1))\n",
    "inputs = torch.cat(inputs, dim=1)\n",
    "inr_size = inputs.size(1)"
   ]
  },
  {
   "cell_type": "code",
   "execution_count": null,
   "id": "7241db3f",
   "metadata": {},
   "outputs": [],
   "source": [
    "reload(baseline)"
   ]
  },
  {
   "cell_type": "code",
   "execution_count": 13,
   "id": "722feac1",
   "metadata": {},
   "outputs": [],
   "source": [
    "model = baseline.INR2INR(in_dim=inr_size, out_dim=inr_size, C=128).cuda()\n",
    "diffusion = ddpm.GaussianDiffusion(\n",
    "    model,\n",
    "    timesteps = 1000,   # number of steps\n",
    "    loss_type = 'l1',    # L1 or L2\n",
    "    inr_size = inr_size,\n",
    ").cuda()"
   ]
  },
  {
   "cell_type": "code",
   "execution_count": 14,
   "id": "e2384e78",
   "metadata": {
    "scrolled": true
   },
   "outputs": [],
   "source": [
    "loss = diffusion(inputs)\n",
    "loss.backward()"
   ]
  },
  {
   "cell_type": "code",
   "execution_count": null,
   "id": "d5abbc30",
   "metadata": {},
   "outputs": [],
   "source": [
    "sampled_params = diffusion.sample(batch_size=4)"
   ]
  },
  {
   "cell_type": "code",
   "execution_count": 43,
   "id": "49120f70",
   "metadata": {},
   "outputs": [],
   "source": [
    "ix = 0\n",
    "new_param_dict = {}\n",
    "for k in keys:\n",
    "    cur_shape = shape_by_key[k]\n",
    "    nelem = int(np.prod(cur_shape))\n",
    "    new_param_dict[k] = sampled_params[:, ix:ix+nelem].reshape(-1, *cur_shape)\n",
    "    ix+=nelem\n",
    "assert ix == sampled_params.size(1)"
   ]
  },
  {
   "cell_type": "code",
   "execution_count": 45,
   "id": "5fa0cd82",
   "metadata": {},
   "outputs": [],
   "source": [
    "single_param_dict = {k:v[0] for k,v in new_param_dict.items()}"
   ]
  },
  {
   "cell_type": "code",
   "execution_count": 46,
   "id": "320bf9c2",
   "metadata": {},
   "outputs": [],
   "source": [
    "net = img2d.Siren().cuda()\n",
    "net.load_state_dict(single_param_dict)"
   ]
  },
  {
   "cell_type": "code",
   "execution_count": null,
   "id": "e5d0ebf9",
   "metadata": {},
   "outputs": [],
   "source": []
  },
  {
   "cell_type": "code",
   "execution_count": null,
   "id": "058b0439",
   "metadata": {},
   "outputs": [],
   "source": [
    "reload(synthetic);"
   ]
  },
  {
   "cell_type": "code",
   "execution_count": null,
   "id": "585edeee",
   "metadata": {},
   "outputs": [],
   "source": []
  },
  {
   "cell_type": "code",
   "execution_count": 9,
   "id": "dc1e986b",
   "metadata": {},
   "outputs": [
    {
     "data": {
      "text/plain": [
       "torch.Size([63, 256, 2])"
      ]
     },
     "execution_count": 9,
     "metadata": {},
     "output_type": "execute_result"
    }
   ],
   "source": [
    "inputs[0].shape"
   ]
  },
  {
   "cell_type": "code",
   "execution_count": 12,
   "id": "c18139ba",
   "metadata": {},
   "outputs": [
    {
     "data": {
      "text/plain": [
       "torch.Size([63, 256])"
      ]
     },
     "execution_count": 12,
     "metadata": {},
     "output_type": "execute_result"
    }
   ],
   "source": [
    "inputs[3].shape"
   ]
  },
  {
   "cell_type": "code",
   "execution_count": 8,
   "id": "b215a81c",
   "metadata": {},
   "outputs": [
    {
     "data": {
      "text/plain": [
       "10"
      ]
     },
     "execution_count": 8,
     "metadata": {},
     "output_type": "execute_result"
    }
   ],
   "source": [
    "len(inputs)"
   ]
  },
  {
   "cell_type": "code",
   "execution_count": null,
   "id": "88ea9358",
   "metadata": {
    "code_folding": []
   },
   "outputs": [],
   "source": [
    "## search python strings\n",
    "import os\n",
    "osp = os.path\n",
    "root = osp.expanduser(\"~/code/placenta/placenta\")\n",
    "query_string = 'load_img'\n",
    "for folder, subfolders, files in os.walk(root):\n",
    "    for file in files:\n",
    "        if file.endswith(\".py\"):\n",
    "            path = osp.join(folder, file)\n",
    "            with open(path, 'r') as f:\n",
    "                if query_string in f.read():\n",
    "                    print(path)"
   ]
  }
 ],
 "metadata": {
  "kernelspec": {
   "display_name": "Python 3 (ipykernel)",
   "language": "python",
   "name": "python3"
  },
  "language_info": {
   "codemirror_mode": {
    "name": "ipython",
    "version": 3
   },
   "file_extension": ".py",
   "mimetype": "text/x-python",
   "name": "python",
   "nbconvert_exporter": "python",
   "pygments_lexer": "ipython3",
   "version": "3.10.3"
  }
 },
 "nbformat": 4,
 "nbformat_minor": 5
}
